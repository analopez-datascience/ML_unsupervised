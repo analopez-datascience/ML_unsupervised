{
 "cells": [
  {
   "cell_type": "markdown",
   "id": "2a28b0a5",
   "metadata": {},
   "source": [
    "# Sprint 8 - Tasca M8 T01\n",
    "\n",
    "- Exercici 1\n",
    "Descarrega el dataset adjunt, de registres de publicacions a Facebook sobre Tailàndia, i classifica els diferents registres utilitzant l'algorisme de K-means.\n",
    "Tingues en compte que prèviament et caldrà preparar el dataset.\n",
    "\n",
    "- Exercici 2\n",
    "Classifica els diferents registres utilitzant l'algorisme de clustering jeràrquic.\n",
    "\n",
    "- Exercici 3\n",
    "Calcula el rendiment del clustering mitjançant un paràmetre com pot ser silhouette."
   ]
  },
  {
   "cell_type": "code",
   "execution_count": 1,
   "id": "6e28920e",
   "metadata": {},
   "outputs": [],
   "source": [
    "import pandas as pd\n",
    "import numpy as np\n",
    "import matplotlib.pyplot as plt\n",
    "import seaborn as sns\n",
    "import warnings\n",
    "warnings.filterwarnings('ignore')\n",
    "\n",
    "from sklearn import preprocessing\n",
    "from sklearn.preprocessing import RobustScaler\n",
    "from sklearn.decomposition import PCA\n",
    "from kneed import KneeLocator\n",
    "\n",
    "from sklearn.cluster import KMeans\n",
    "import scipy.cluster.hierarchy as shc\n",
    "from sklearn.cluster import AgglomerativeClustering\n",
    "\n",
    "from sklearn.metrics import silhouette_score"
   ]
  },
  {
   "cell_type": "markdown",
   "id": "d6027b2b",
   "metadata": {},
   "source": [
    "## Preparación dataset"
   ]
  },
  {
   "cell_type": "markdown",
   "id": "9fbf38b5",
   "metadata": {},
   "source": [
    "A continuación analizamos un Data Set que se recoge las reacciones de una serie de publicaciones en Facebook durante un periodo de tiempo concreto. Las variables son las siguientes:\n",
    "\n",
    "* status_id: id de cada publicación\n",
    "* status_type: tipo de publicación\n",
    "* status_published: fecha de la publicación\n",
    "* num_reactions: reacciones\n",
    "* num_comments: comentarios\n",
    "* num_shares: compartidos\n",
    "* num_likes: me gusta\n",
    "* num_loves: emoji corazón\n",
    "* num_wows: emoji sorprendido\n",
    "* num_hahas: emoji risas\n",
    "* num_sads: emoji triste\n",
    "* num_angrys: emoji enfadado\n",
    "* Column1: NaN\n",
    "* Column2: NaN\n",
    "* Column3: NaN\n",
    "* Column4: NaN\n"
   ]
  },
  {
   "cell_type": "code",
   "execution_count": 2,
   "id": "d4711881",
   "metadata": {},
   "outputs": [
    {
     "data": {
      "text/html": [
       "<div>\n",
       "<style scoped>\n",
       "    .dataframe tbody tr th:only-of-type {\n",
       "        vertical-align: middle;\n",
       "    }\n",
       "\n",
       "    .dataframe tbody tr th {\n",
       "        vertical-align: top;\n",
       "    }\n",
       "\n",
       "    .dataframe thead th {\n",
       "        text-align: right;\n",
       "    }\n",
       "</style>\n",
       "<table border=\"1\" class=\"dataframe\">\n",
       "  <thead>\n",
       "    <tr style=\"text-align: right;\">\n",
       "      <th></th>\n",
       "      <th>status_id</th>\n",
       "      <th>status_type</th>\n",
       "      <th>status_published</th>\n",
       "      <th>num_reactions</th>\n",
       "      <th>num_comments</th>\n",
       "      <th>num_shares</th>\n",
       "      <th>num_likes</th>\n",
       "      <th>num_loves</th>\n",
       "      <th>num_wows</th>\n",
       "      <th>num_hahas</th>\n",
       "      <th>num_sads</th>\n",
       "      <th>num_angrys</th>\n",
       "      <th>Column1</th>\n",
       "      <th>Column2</th>\n",
       "      <th>Column3</th>\n",
       "      <th>Column4</th>\n",
       "    </tr>\n",
       "  </thead>\n",
       "  <tbody>\n",
       "    <tr>\n",
       "      <th>0</th>\n",
       "      <td>246675545449582_1649696485147474</td>\n",
       "      <td>video</td>\n",
       "      <td>4/22/2018 6:00</td>\n",
       "      <td>529</td>\n",
       "      <td>512</td>\n",
       "      <td>262</td>\n",
       "      <td>432</td>\n",
       "      <td>92</td>\n",
       "      <td>3</td>\n",
       "      <td>1</td>\n",
       "      <td>1</td>\n",
       "      <td>0</td>\n",
       "      <td>NaN</td>\n",
       "      <td>NaN</td>\n",
       "      <td>NaN</td>\n",
       "      <td>NaN</td>\n",
       "    </tr>\n",
       "    <tr>\n",
       "      <th>1</th>\n",
       "      <td>246675545449582_1649426988507757</td>\n",
       "      <td>photo</td>\n",
       "      <td>4/21/2018 22:45</td>\n",
       "      <td>150</td>\n",
       "      <td>0</td>\n",
       "      <td>0</td>\n",
       "      <td>150</td>\n",
       "      <td>0</td>\n",
       "      <td>0</td>\n",
       "      <td>0</td>\n",
       "      <td>0</td>\n",
       "      <td>0</td>\n",
       "      <td>NaN</td>\n",
       "      <td>NaN</td>\n",
       "      <td>NaN</td>\n",
       "      <td>NaN</td>\n",
       "    </tr>\n",
       "    <tr>\n",
       "      <th>2</th>\n",
       "      <td>246675545449582_1648730588577397</td>\n",
       "      <td>video</td>\n",
       "      <td>4/21/2018 6:17</td>\n",
       "      <td>227</td>\n",
       "      <td>236</td>\n",
       "      <td>57</td>\n",
       "      <td>204</td>\n",
       "      <td>21</td>\n",
       "      <td>1</td>\n",
       "      <td>1</td>\n",
       "      <td>0</td>\n",
       "      <td>0</td>\n",
       "      <td>NaN</td>\n",
       "      <td>NaN</td>\n",
       "      <td>NaN</td>\n",
       "      <td>NaN</td>\n",
       "    </tr>\n",
       "    <tr>\n",
       "      <th>3</th>\n",
       "      <td>246675545449582_1648576705259452</td>\n",
       "      <td>photo</td>\n",
       "      <td>4/21/2018 2:29</td>\n",
       "      <td>111</td>\n",
       "      <td>0</td>\n",
       "      <td>0</td>\n",
       "      <td>111</td>\n",
       "      <td>0</td>\n",
       "      <td>0</td>\n",
       "      <td>0</td>\n",
       "      <td>0</td>\n",
       "      <td>0</td>\n",
       "      <td>NaN</td>\n",
       "      <td>NaN</td>\n",
       "      <td>NaN</td>\n",
       "      <td>NaN</td>\n",
       "    </tr>\n",
       "    <tr>\n",
       "      <th>4</th>\n",
       "      <td>246675545449582_1645700502213739</td>\n",
       "      <td>photo</td>\n",
       "      <td>4/18/2018 3:22</td>\n",
       "      <td>213</td>\n",
       "      <td>0</td>\n",
       "      <td>0</td>\n",
       "      <td>204</td>\n",
       "      <td>9</td>\n",
       "      <td>0</td>\n",
       "      <td>0</td>\n",
       "      <td>0</td>\n",
       "      <td>0</td>\n",
       "      <td>NaN</td>\n",
       "      <td>NaN</td>\n",
       "      <td>NaN</td>\n",
       "      <td>NaN</td>\n",
       "    </tr>\n",
       "    <tr>\n",
       "      <th>5</th>\n",
       "      <td>246675545449582_1645650162218773</td>\n",
       "      <td>photo</td>\n",
       "      <td>4/18/2018 2:14</td>\n",
       "      <td>217</td>\n",
       "      <td>6</td>\n",
       "      <td>0</td>\n",
       "      <td>211</td>\n",
       "      <td>5</td>\n",
       "      <td>1</td>\n",
       "      <td>0</td>\n",
       "      <td>0</td>\n",
       "      <td>0</td>\n",
       "      <td>NaN</td>\n",
       "      <td>NaN</td>\n",
       "      <td>NaN</td>\n",
       "      <td>NaN</td>\n",
       "    </tr>\n",
       "    <tr>\n",
       "      <th>6</th>\n",
       "      <td>246675545449582_1645564175560705</td>\n",
       "      <td>video</td>\n",
       "      <td>4/18/2018 0:24</td>\n",
       "      <td>503</td>\n",
       "      <td>614</td>\n",
       "      <td>72</td>\n",
       "      <td>418</td>\n",
       "      <td>70</td>\n",
       "      <td>10</td>\n",
       "      <td>2</td>\n",
       "      <td>0</td>\n",
       "      <td>3</td>\n",
       "      <td>NaN</td>\n",
       "      <td>NaN</td>\n",
       "      <td>NaN</td>\n",
       "      <td>NaN</td>\n",
       "    </tr>\n",
       "    <tr>\n",
       "      <th>7</th>\n",
       "      <td>246675545449582_1644824665634656</td>\n",
       "      <td>video</td>\n",
       "      <td>4/17/2018 7:42</td>\n",
       "      <td>295</td>\n",
       "      <td>453</td>\n",
       "      <td>53</td>\n",
       "      <td>260</td>\n",
       "      <td>32</td>\n",
       "      <td>1</td>\n",
       "      <td>1</td>\n",
       "      <td>0</td>\n",
       "      <td>1</td>\n",
       "      <td>NaN</td>\n",
       "      <td>NaN</td>\n",
       "      <td>NaN</td>\n",
       "      <td>NaN</td>\n",
       "    </tr>\n",
       "    <tr>\n",
       "      <th>8</th>\n",
       "      <td>246675545449582_1644655795651543</td>\n",
       "      <td>photo</td>\n",
       "      <td>4/17/2018 3:33</td>\n",
       "      <td>203</td>\n",
       "      <td>1</td>\n",
       "      <td>0</td>\n",
       "      <td>198</td>\n",
       "      <td>5</td>\n",
       "      <td>0</td>\n",
       "      <td>0</td>\n",
       "      <td>0</td>\n",
       "      <td>0</td>\n",
       "      <td>NaN</td>\n",
       "      <td>NaN</td>\n",
       "      <td>NaN</td>\n",
       "      <td>NaN</td>\n",
       "    </tr>\n",
       "    <tr>\n",
       "      <th>9</th>\n",
       "      <td>246675545449582_1638788379571618</td>\n",
       "      <td>photo</td>\n",
       "      <td>4/11/2018 4:53</td>\n",
       "      <td>170</td>\n",
       "      <td>9</td>\n",
       "      <td>1</td>\n",
       "      <td>167</td>\n",
       "      <td>3</td>\n",
       "      <td>0</td>\n",
       "      <td>0</td>\n",
       "      <td>0</td>\n",
       "      <td>0</td>\n",
       "      <td>NaN</td>\n",
       "      <td>NaN</td>\n",
       "      <td>NaN</td>\n",
       "      <td>NaN</td>\n",
       "    </tr>\n",
       "    <tr>\n",
       "      <th>10</th>\n",
       "      <td>246675545449582_1637655039684952</td>\n",
       "      <td>photo</td>\n",
       "      <td>4/10/2018 1:01</td>\n",
       "      <td>210</td>\n",
       "      <td>2</td>\n",
       "      <td>3</td>\n",
       "      <td>202</td>\n",
       "      <td>7</td>\n",
       "      <td>1</td>\n",
       "      <td>0</td>\n",
       "      <td>0</td>\n",
       "      <td>0</td>\n",
       "      <td>NaN</td>\n",
       "      <td>NaN</td>\n",
       "      <td>NaN</td>\n",
       "      <td>NaN</td>\n",
       "    </tr>\n",
       "    <tr>\n",
       "      <th>11</th>\n",
       "      <td>246675545449582_1636730006444122</td>\n",
       "      <td>photo</td>\n",
       "      <td>4/9/2018 2:06</td>\n",
       "      <td>222</td>\n",
       "      <td>4</td>\n",
       "      <td>0</td>\n",
       "      <td>213</td>\n",
       "      <td>5</td>\n",
       "      <td>4</td>\n",
       "      <td>0</td>\n",
       "      <td>0</td>\n",
       "      <td>0</td>\n",
       "      <td>NaN</td>\n",
       "      <td>NaN</td>\n",
       "      <td>NaN</td>\n",
       "      <td>NaN</td>\n",
       "    </tr>\n",
       "    <tr>\n",
       "      <th>12</th>\n",
       "      <td>246675545449582_1635846033199186</td>\n",
       "      <td>photo</td>\n",
       "      <td>4/8/2018 5:10</td>\n",
       "      <td>313</td>\n",
       "      <td>4</td>\n",
       "      <td>2</td>\n",
       "      <td>305</td>\n",
       "      <td>6</td>\n",
       "      <td>2</td>\n",
       "      <td>0</td>\n",
       "      <td>0</td>\n",
       "      <td>0</td>\n",
       "      <td>NaN</td>\n",
       "      <td>NaN</td>\n",
       "      <td>NaN</td>\n",
       "      <td>NaN</td>\n",
       "    </tr>\n",
       "    <tr>\n",
       "      <th>13</th>\n",
       "      <td>246675545449582_1635730986544024</td>\n",
       "      <td>photo</td>\n",
       "      <td>4/8/2018 2:23</td>\n",
       "      <td>209</td>\n",
       "      <td>4</td>\n",
       "      <td>0</td>\n",
       "      <td>200</td>\n",
       "      <td>8</td>\n",
       "      <td>1</td>\n",
       "      <td>0</td>\n",
       "      <td>0</td>\n",
       "      <td>0</td>\n",
       "      <td>NaN</td>\n",
       "      <td>NaN</td>\n",
       "      <td>NaN</td>\n",
       "      <td>NaN</td>\n",
       "    </tr>\n",
       "    <tr>\n",
       "      <th>14</th>\n",
       "      <td>246675545449582_1632874756829647</td>\n",
       "      <td>photo</td>\n",
       "      <td>4/5/2018 9:23</td>\n",
       "      <td>346</td>\n",
       "      <td>11</td>\n",
       "      <td>0</td>\n",
       "      <td>335</td>\n",
       "      <td>10</td>\n",
       "      <td>1</td>\n",
       "      <td>0</td>\n",
       "      <td>0</td>\n",
       "      <td>0</td>\n",
       "      <td>NaN</td>\n",
       "      <td>NaN</td>\n",
       "      <td>NaN</td>\n",
       "      <td>NaN</td>\n",
       "    </tr>\n",
       "  </tbody>\n",
       "</table>\n",
       "</div>"
      ],
      "text/plain": [
       "                           status_id status_type status_published  \\\n",
       "0   246675545449582_1649696485147474       video   4/22/2018 6:00   \n",
       "1   246675545449582_1649426988507757       photo  4/21/2018 22:45   \n",
       "2   246675545449582_1648730588577397       video   4/21/2018 6:17   \n",
       "3   246675545449582_1648576705259452       photo   4/21/2018 2:29   \n",
       "4   246675545449582_1645700502213739       photo   4/18/2018 3:22   \n",
       "5   246675545449582_1645650162218773       photo   4/18/2018 2:14   \n",
       "6   246675545449582_1645564175560705       video   4/18/2018 0:24   \n",
       "7   246675545449582_1644824665634656       video   4/17/2018 7:42   \n",
       "8   246675545449582_1644655795651543       photo   4/17/2018 3:33   \n",
       "9   246675545449582_1638788379571618       photo   4/11/2018 4:53   \n",
       "10  246675545449582_1637655039684952       photo   4/10/2018 1:01   \n",
       "11  246675545449582_1636730006444122       photo    4/9/2018 2:06   \n",
       "12  246675545449582_1635846033199186       photo    4/8/2018 5:10   \n",
       "13  246675545449582_1635730986544024       photo    4/8/2018 2:23   \n",
       "14  246675545449582_1632874756829647       photo    4/5/2018 9:23   \n",
       "\n",
       "    num_reactions  num_comments  num_shares  num_likes  num_loves  num_wows  \\\n",
       "0             529           512         262        432         92         3   \n",
       "1             150             0           0        150          0         0   \n",
       "2             227           236          57        204         21         1   \n",
       "3             111             0           0        111          0         0   \n",
       "4             213             0           0        204          9         0   \n",
       "5             217             6           0        211          5         1   \n",
       "6             503           614          72        418         70        10   \n",
       "7             295           453          53        260         32         1   \n",
       "8             203             1           0        198          5         0   \n",
       "9             170             9           1        167          3         0   \n",
       "10            210             2           3        202          7         1   \n",
       "11            222             4           0        213          5         4   \n",
       "12            313             4           2        305          6         2   \n",
       "13            209             4           0        200          8         1   \n",
       "14            346            11           0        335         10         1   \n",
       "\n",
       "    num_hahas  num_sads  num_angrys  Column1  Column2  Column3  Column4  \n",
       "0           1         1           0      NaN      NaN      NaN      NaN  \n",
       "1           0         0           0      NaN      NaN      NaN      NaN  \n",
       "2           1         0           0      NaN      NaN      NaN      NaN  \n",
       "3           0         0           0      NaN      NaN      NaN      NaN  \n",
       "4           0         0           0      NaN      NaN      NaN      NaN  \n",
       "5           0         0           0      NaN      NaN      NaN      NaN  \n",
       "6           2         0           3      NaN      NaN      NaN      NaN  \n",
       "7           1         0           1      NaN      NaN      NaN      NaN  \n",
       "8           0         0           0      NaN      NaN      NaN      NaN  \n",
       "9           0         0           0      NaN      NaN      NaN      NaN  \n",
       "10          0         0           0      NaN      NaN      NaN      NaN  \n",
       "11          0         0           0      NaN      NaN      NaN      NaN  \n",
       "12          0         0           0      NaN      NaN      NaN      NaN  \n",
       "13          0         0           0      NaN      NaN      NaN      NaN  \n",
       "14          0         0           0      NaN      NaN      NaN      NaN  "
      ]
     },
     "execution_count": 2,
     "metadata": {},
     "output_type": "execute_result"
    }
   ],
   "source": [
    "df = pd.read_csv('./Publicacions Facebook Thailandia.csv', encoding='utf-8', sep=',')\n",
    "df.head(15)"
   ]
  },
  {
   "cell_type": "code",
   "execution_count": 3,
   "id": "6b2ac08a",
   "metadata": {},
   "outputs": [
    {
     "data": {
      "text/html": [
       "<div>\n",
       "<style scoped>\n",
       "    .dataframe tbody tr th:only-of-type {\n",
       "        vertical-align: middle;\n",
       "    }\n",
       "\n",
       "    .dataframe tbody tr th {\n",
       "        vertical-align: top;\n",
       "    }\n",
       "\n",
       "    .dataframe thead th {\n",
       "        text-align: right;\n",
       "    }\n",
       "</style>\n",
       "<table border=\"1\" class=\"dataframe\">\n",
       "  <thead>\n",
       "    <tr style=\"text-align: right;\">\n",
       "      <th></th>\n",
       "      <th>status_id</th>\n",
       "      <th>status_type</th>\n",
       "      <th>status_published</th>\n",
       "      <th>num_reactions</th>\n",
       "      <th>num_comments</th>\n",
       "      <th>num_shares</th>\n",
       "      <th>num_likes</th>\n",
       "      <th>num_loves</th>\n",
       "      <th>num_wows</th>\n",
       "      <th>num_hahas</th>\n",
       "      <th>num_sads</th>\n",
       "      <th>num_angrys</th>\n",
       "      <th>Column1</th>\n",
       "      <th>Column2</th>\n",
       "      <th>Column3</th>\n",
       "      <th>Column4</th>\n",
       "    </tr>\n",
       "  </thead>\n",
       "  <tbody>\n",
       "    <tr>\n",
       "      <th>7035</th>\n",
       "      <td>1050855161656896_1074576555951423</td>\n",
       "      <td>photo</td>\n",
       "      <td>10/9/2016 8:36</td>\n",
       "      <td>10</td>\n",
       "      <td>0</td>\n",
       "      <td>0</td>\n",
       "      <td>10</td>\n",
       "      <td>0</td>\n",
       "      <td>0</td>\n",
       "      <td>0</td>\n",
       "      <td>0</td>\n",
       "      <td>0</td>\n",
       "      <td>NaN</td>\n",
       "      <td>NaN</td>\n",
       "      <td>NaN</td>\n",
       "      <td>NaN</td>\n",
       "    </tr>\n",
       "    <tr>\n",
       "      <th>7036</th>\n",
       "      <td>1050855161656896_1073563326052746</td>\n",
       "      <td>photo</td>\n",
       "      <td>10/8/2016 2:33</td>\n",
       "      <td>236</td>\n",
       "      <td>0</td>\n",
       "      <td>5</td>\n",
       "      <td>235</td>\n",
       "      <td>0</td>\n",
       "      <td>1</td>\n",
       "      <td>0</td>\n",
       "      <td>0</td>\n",
       "      <td>0</td>\n",
       "      <td>NaN</td>\n",
       "      <td>NaN</td>\n",
       "      <td>NaN</td>\n",
       "      <td>NaN</td>\n",
       "    </tr>\n",
       "    <tr>\n",
       "      <th>7037</th>\n",
       "      <td>1050855161656896_1070127156396363</td>\n",
       "      <td>photo</td>\n",
       "      <td>10/4/2016 1:49</td>\n",
       "      <td>15</td>\n",
       "      <td>0</td>\n",
       "      <td>1</td>\n",
       "      <td>14</td>\n",
       "      <td>1</td>\n",
       "      <td>0</td>\n",
       "      <td>0</td>\n",
       "      <td>0</td>\n",
       "      <td>0</td>\n",
       "      <td>NaN</td>\n",
       "      <td>NaN</td>\n",
       "      <td>NaN</td>\n",
       "      <td>NaN</td>\n",
       "    </tr>\n",
       "    <tr>\n",
       "      <th>7038</th>\n",
       "      <td>1050855161656896_1067647913310954</td>\n",
       "      <td>photo</td>\n",
       "      <td>10/1/2016 1:17</td>\n",
       "      <td>1</td>\n",
       "      <td>0</td>\n",
       "      <td>0</td>\n",
       "      <td>1</td>\n",
       "      <td>0</td>\n",
       "      <td>0</td>\n",
       "      <td>0</td>\n",
       "      <td>0</td>\n",
       "      <td>0</td>\n",
       "      <td>NaN</td>\n",
       "      <td>NaN</td>\n",
       "      <td>NaN</td>\n",
       "      <td>NaN</td>\n",
       "    </tr>\n",
       "    <tr>\n",
       "      <th>7039</th>\n",
       "      <td>1050855161656896_1063592313716514</td>\n",
       "      <td>photo</td>\n",
       "      <td>9/26/2016 5:48</td>\n",
       "      <td>7</td>\n",
       "      <td>0</td>\n",
       "      <td>0</td>\n",
       "      <td>7</td>\n",
       "      <td>0</td>\n",
       "      <td>0</td>\n",
       "      <td>0</td>\n",
       "      <td>0</td>\n",
       "      <td>0</td>\n",
       "      <td>NaN</td>\n",
       "      <td>NaN</td>\n",
       "      <td>NaN</td>\n",
       "      <td>NaN</td>\n",
       "    </tr>\n",
       "    <tr>\n",
       "      <th>7040</th>\n",
       "      <td>1050855161656896_1063071050435307</td>\n",
       "      <td>photo</td>\n",
       "      <td>9/25/2016 13:29</td>\n",
       "      <td>93</td>\n",
       "      <td>26</td>\n",
       "      <td>34</td>\n",
       "      <td>90</td>\n",
       "      <td>3</td>\n",
       "      <td>0</td>\n",
       "      <td>0</td>\n",
       "      <td>0</td>\n",
       "      <td>0</td>\n",
       "      <td>NaN</td>\n",
       "      <td>NaN</td>\n",
       "      <td>NaN</td>\n",
       "      <td>NaN</td>\n",
       "    </tr>\n",
       "    <tr>\n",
       "      <th>7041</th>\n",
       "      <td>1050855161656896_1062020473873698</td>\n",
       "      <td>photo</td>\n",
       "      <td>9/24/2016 8:15</td>\n",
       "      <td>9</td>\n",
       "      <td>0</td>\n",
       "      <td>0</td>\n",
       "      <td>7</td>\n",
       "      <td>2</td>\n",
       "      <td>0</td>\n",
       "      <td>0</td>\n",
       "      <td>0</td>\n",
       "      <td>0</td>\n",
       "      <td>NaN</td>\n",
       "      <td>NaN</td>\n",
       "      <td>NaN</td>\n",
       "      <td>NaN</td>\n",
       "    </tr>\n",
       "    <tr>\n",
       "      <th>7042</th>\n",
       "      <td>1050855161656896_1061944223881323</td>\n",
       "      <td>photo</td>\n",
       "      <td>9/24/2016 6:07</td>\n",
       "      <td>4</td>\n",
       "      <td>0</td>\n",
       "      <td>0</td>\n",
       "      <td>4</td>\n",
       "      <td>0</td>\n",
       "      <td>0</td>\n",
       "      <td>0</td>\n",
       "      <td>0</td>\n",
       "      <td>0</td>\n",
       "      <td>NaN</td>\n",
       "      <td>NaN</td>\n",
       "      <td>NaN</td>\n",
       "      <td>NaN</td>\n",
       "    </tr>\n",
       "    <tr>\n",
       "      <th>7043</th>\n",
       "      <td>1050855161656896_1061918183883927</td>\n",
       "      <td>photo</td>\n",
       "      <td>9/24/2016 5:07</td>\n",
       "      <td>196</td>\n",
       "      <td>2</td>\n",
       "      <td>3</td>\n",
       "      <td>195</td>\n",
       "      <td>1</td>\n",
       "      <td>0</td>\n",
       "      <td>0</td>\n",
       "      <td>0</td>\n",
       "      <td>0</td>\n",
       "      <td>NaN</td>\n",
       "      <td>NaN</td>\n",
       "      <td>NaN</td>\n",
       "      <td>NaN</td>\n",
       "    </tr>\n",
       "    <tr>\n",
       "      <th>7044</th>\n",
       "      <td>1050855161656896_1061906620551750</td>\n",
       "      <td>photo</td>\n",
       "      <td>9/24/2016 4:37</td>\n",
       "      <td>86</td>\n",
       "      <td>0</td>\n",
       "      <td>0</td>\n",
       "      <td>86</td>\n",
       "      <td>0</td>\n",
       "      <td>0</td>\n",
       "      <td>0</td>\n",
       "      <td>0</td>\n",
       "      <td>0</td>\n",
       "      <td>NaN</td>\n",
       "      <td>NaN</td>\n",
       "      <td>NaN</td>\n",
       "      <td>NaN</td>\n",
       "    </tr>\n",
       "    <tr>\n",
       "      <th>7045</th>\n",
       "      <td>1050855161656896_1061863470556065</td>\n",
       "      <td>photo</td>\n",
       "      <td>9/24/2016 2:58</td>\n",
       "      <td>89</td>\n",
       "      <td>0</td>\n",
       "      <td>0</td>\n",
       "      <td>89</td>\n",
       "      <td>0</td>\n",
       "      <td>0</td>\n",
       "      <td>0</td>\n",
       "      <td>0</td>\n",
       "      <td>0</td>\n",
       "      <td>NaN</td>\n",
       "      <td>NaN</td>\n",
       "      <td>NaN</td>\n",
       "      <td>NaN</td>\n",
       "    </tr>\n",
       "    <tr>\n",
       "      <th>7046</th>\n",
       "      <td>1050855161656896_1061334757275603</td>\n",
       "      <td>photo</td>\n",
       "      <td>9/23/2016 11:19</td>\n",
       "      <td>16</td>\n",
       "      <td>0</td>\n",
       "      <td>0</td>\n",
       "      <td>14</td>\n",
       "      <td>1</td>\n",
       "      <td>0</td>\n",
       "      <td>1</td>\n",
       "      <td>0</td>\n",
       "      <td>0</td>\n",
       "      <td>NaN</td>\n",
       "      <td>NaN</td>\n",
       "      <td>NaN</td>\n",
       "      <td>NaN</td>\n",
       "    </tr>\n",
       "    <tr>\n",
       "      <th>7047</th>\n",
       "      <td>1050855161656896_1060126464063099</td>\n",
       "      <td>photo</td>\n",
       "      <td>9/21/2016 23:03</td>\n",
       "      <td>2</td>\n",
       "      <td>0</td>\n",
       "      <td>0</td>\n",
       "      <td>1</td>\n",
       "      <td>1</td>\n",
       "      <td>0</td>\n",
       "      <td>0</td>\n",
       "      <td>0</td>\n",
       "      <td>0</td>\n",
       "      <td>NaN</td>\n",
       "      <td>NaN</td>\n",
       "      <td>NaN</td>\n",
       "      <td>NaN</td>\n",
       "    </tr>\n",
       "    <tr>\n",
       "      <th>7048</th>\n",
       "      <td>1050855161656896_1058663487542730</td>\n",
       "      <td>photo</td>\n",
       "      <td>9/20/2016 0:43</td>\n",
       "      <td>351</td>\n",
       "      <td>12</td>\n",
       "      <td>22</td>\n",
       "      <td>349</td>\n",
       "      <td>2</td>\n",
       "      <td>0</td>\n",
       "      <td>0</td>\n",
       "      <td>0</td>\n",
       "      <td>0</td>\n",
       "      <td>NaN</td>\n",
       "      <td>NaN</td>\n",
       "      <td>NaN</td>\n",
       "      <td>NaN</td>\n",
       "    </tr>\n",
       "    <tr>\n",
       "      <th>7049</th>\n",
       "      <td>1050855161656896_1050858841656528</td>\n",
       "      <td>photo</td>\n",
       "      <td>9/10/2016 10:30</td>\n",
       "      <td>17</td>\n",
       "      <td>0</td>\n",
       "      <td>0</td>\n",
       "      <td>17</td>\n",
       "      <td>0</td>\n",
       "      <td>0</td>\n",
       "      <td>0</td>\n",
       "      <td>0</td>\n",
       "      <td>0</td>\n",
       "      <td>NaN</td>\n",
       "      <td>NaN</td>\n",
       "      <td>NaN</td>\n",
       "      <td>NaN</td>\n",
       "    </tr>\n",
       "  </tbody>\n",
       "</table>\n",
       "</div>"
      ],
      "text/plain": [
       "                              status_id status_type status_published  \\\n",
       "7035  1050855161656896_1074576555951423       photo   10/9/2016 8:36   \n",
       "7036  1050855161656896_1073563326052746       photo   10/8/2016 2:33   \n",
       "7037  1050855161656896_1070127156396363       photo   10/4/2016 1:49   \n",
       "7038  1050855161656896_1067647913310954       photo   10/1/2016 1:17   \n",
       "7039  1050855161656896_1063592313716514       photo   9/26/2016 5:48   \n",
       "7040  1050855161656896_1063071050435307       photo  9/25/2016 13:29   \n",
       "7041  1050855161656896_1062020473873698       photo   9/24/2016 8:15   \n",
       "7042  1050855161656896_1061944223881323       photo   9/24/2016 6:07   \n",
       "7043  1050855161656896_1061918183883927       photo   9/24/2016 5:07   \n",
       "7044  1050855161656896_1061906620551750       photo   9/24/2016 4:37   \n",
       "7045  1050855161656896_1061863470556065       photo   9/24/2016 2:58   \n",
       "7046  1050855161656896_1061334757275603       photo  9/23/2016 11:19   \n",
       "7047  1050855161656896_1060126464063099       photo  9/21/2016 23:03   \n",
       "7048  1050855161656896_1058663487542730       photo   9/20/2016 0:43   \n",
       "7049  1050855161656896_1050858841656528       photo  9/10/2016 10:30   \n",
       "\n",
       "      num_reactions  num_comments  num_shares  num_likes  num_loves  num_wows  \\\n",
       "7035             10             0           0         10          0         0   \n",
       "7036            236             0           5        235          0         1   \n",
       "7037             15             0           1         14          1         0   \n",
       "7038              1             0           0          1          0         0   \n",
       "7039              7             0           0          7          0         0   \n",
       "7040             93            26          34         90          3         0   \n",
       "7041              9             0           0          7          2         0   \n",
       "7042              4             0           0          4          0         0   \n",
       "7043            196             2           3        195          1         0   \n",
       "7044             86             0           0         86          0         0   \n",
       "7045             89             0           0         89          0         0   \n",
       "7046             16             0           0         14          1         0   \n",
       "7047              2             0           0          1          1         0   \n",
       "7048            351            12          22        349          2         0   \n",
       "7049             17             0           0         17          0         0   \n",
       "\n",
       "      num_hahas  num_sads  num_angrys  Column1  Column2  Column3  Column4  \n",
       "7035          0         0           0      NaN      NaN      NaN      NaN  \n",
       "7036          0         0           0      NaN      NaN      NaN      NaN  \n",
       "7037          0         0           0      NaN      NaN      NaN      NaN  \n",
       "7038          0         0           0      NaN      NaN      NaN      NaN  \n",
       "7039          0         0           0      NaN      NaN      NaN      NaN  \n",
       "7040          0         0           0      NaN      NaN      NaN      NaN  \n",
       "7041          0         0           0      NaN      NaN      NaN      NaN  \n",
       "7042          0         0           0      NaN      NaN      NaN      NaN  \n",
       "7043          0         0           0      NaN      NaN      NaN      NaN  \n",
       "7044          0         0           0      NaN      NaN      NaN      NaN  \n",
       "7045          0         0           0      NaN      NaN      NaN      NaN  \n",
       "7046          1         0           0      NaN      NaN      NaN      NaN  \n",
       "7047          0         0           0      NaN      NaN      NaN      NaN  \n",
       "7048          0         0           0      NaN      NaN      NaN      NaN  \n",
       "7049          0         0           0      NaN      NaN      NaN      NaN  "
      ]
     },
     "execution_count": 3,
     "metadata": {},
     "output_type": "execute_result"
    }
   ],
   "source": [
    "df.tail(15)"
   ]
  },
  {
   "cell_type": "code",
   "execution_count": 4,
   "id": "c889052d",
   "metadata": {},
   "outputs": [
    {
     "data": {
      "text/plain": [
       "Index(['status_id', 'status_type', 'status_published', 'num_reactions',\n",
       "       'num_comments', 'num_shares', 'num_likes', 'num_loves', 'num_wows',\n",
       "       'num_hahas', 'num_sads', 'num_angrys', 'Column1', 'Column2', 'Column3',\n",
       "       'Column4'],\n",
       "      dtype='object')"
      ]
     },
     "execution_count": 4,
     "metadata": {},
     "output_type": "execute_result"
    }
   ],
   "source": [
    "df.columns"
   ]
  },
  {
   "cell_type": "code",
   "execution_count": 5,
   "id": "6eb43940",
   "metadata": {},
   "outputs": [
    {
     "data": {
      "text/plain": [
       "(7050, 16)"
      ]
     },
     "execution_count": 5,
     "metadata": {},
     "output_type": "execute_result"
    }
   ],
   "source": [
    "df.shape"
   ]
  },
  {
   "cell_type": "code",
   "execution_count": 6,
   "id": "d470258c",
   "metadata": {},
   "outputs": [
    {
     "data": {
      "text/plain": [
       "112800"
      ]
     },
     "execution_count": 6,
     "metadata": {},
     "output_type": "execute_result"
    }
   ],
   "source": [
    "df.size"
   ]
  },
  {
   "cell_type": "code",
   "execution_count": 7,
   "id": "79b63bfa",
   "metadata": {},
   "outputs": [
    {
     "data": {
      "text/plain": [
       "status_id            object\n",
       "status_type          object\n",
       "status_published     object\n",
       "num_reactions         int64\n",
       "num_comments          int64\n",
       "num_shares            int64\n",
       "num_likes             int64\n",
       "num_loves             int64\n",
       "num_wows              int64\n",
       "num_hahas             int64\n",
       "num_sads              int64\n",
       "num_angrys            int64\n",
       "Column1             float64\n",
       "Column2             float64\n",
       "Column3             float64\n",
       "Column4             float64\n",
       "dtype: object"
      ]
     },
     "execution_count": 7,
     "metadata": {},
     "output_type": "execute_result"
    }
   ],
   "source": [
    "df.dtypes"
   ]
  },
  {
   "cell_type": "code",
   "execution_count": 8,
   "id": "a496f1c7",
   "metadata": {},
   "outputs": [
    {
     "data": {
      "text/plain": [
       "status_id           6997\n",
       "status_type            4\n",
       "status_published    6913\n",
       "num_reactions       1067\n",
       "num_comments         993\n",
       "num_shares           501\n",
       "num_likes           1044\n",
       "num_loves            229\n",
       "num_wows              65\n",
       "num_hahas             42\n",
       "num_sads              24\n",
       "num_angrys            14\n",
       "Column1                0\n",
       "Column2                0\n",
       "Column3                0\n",
       "Column4                0\n",
       "dtype: int64"
      ]
     },
     "execution_count": 8,
     "metadata": {},
     "output_type": "execute_result"
    }
   ],
   "source": [
    "df.nunique()"
   ]
  },
  {
   "cell_type": "markdown",
   "id": "c5ef538b",
   "metadata": {},
   "source": [
    "### Valores NaN\n",
    "\n",
    "Comprobamos que las cuatro últimas columnas son valores NaN, así que procedemos a eliminarlos. "
   ]
  },
  {
   "cell_type": "code",
   "execution_count": 9,
   "id": "db920dc0",
   "metadata": {},
   "outputs": [
    {
     "data": {
      "text/plain": [
       "status_id              0\n",
       "status_type            0\n",
       "status_published       0\n",
       "num_reactions          0\n",
       "num_comments           0\n",
       "num_shares             0\n",
       "num_likes              0\n",
       "num_loves              0\n",
       "num_wows               0\n",
       "num_hahas              0\n",
       "num_sads               0\n",
       "num_angrys             0\n",
       "Column1             7050\n",
       "Column2             7050\n",
       "Column3             7050\n",
       "Column4             7050\n",
       "dtype: int64"
      ]
     },
     "execution_count": 9,
     "metadata": {},
     "output_type": "execute_result"
    }
   ],
   "source": [
    "df.isnull().sum()"
   ]
  },
  {
   "cell_type": "code",
   "execution_count": 10,
   "id": "a649b331",
   "metadata": {},
   "outputs": [
    {
     "data": {
      "text/plain": [
       "Index(['status_id', 'status_type', 'status_published', 'num_reactions',\n",
       "       'num_comments', 'num_shares', 'num_likes', 'num_loves', 'num_wows',\n",
       "       'num_hahas', 'num_sads', 'num_angrys'],\n",
       "      dtype='object')"
      ]
     },
     "execution_count": 10,
     "metadata": {},
     "output_type": "execute_result"
    }
   ],
   "source": [
    "df.drop(['Column1','Column2','Column3','Column4'], axis=1, inplace=True)\n",
    "df.columns"
   ]
  },
  {
   "cell_type": "code",
   "execution_count": 11,
   "id": "2747cc85",
   "metadata": {},
   "outputs": [
    {
     "data": {
      "text/plain": [
       "84600"
      ]
     },
     "execution_count": 11,
     "metadata": {},
     "output_type": "execute_result"
    }
   ],
   "source": [
    "df.size"
   ]
  },
  {
   "cell_type": "code",
   "execution_count": 12,
   "id": "72302df7",
   "metadata": {},
   "outputs": [
    {
     "data": {
      "text/plain": [
       "(7050, 12)"
      ]
     },
     "execution_count": 12,
     "metadata": {},
     "output_type": "execute_result"
    }
   ],
   "source": [
    "df.shape"
   ]
  },
  {
   "cell_type": "code",
   "execution_count": 13,
   "id": "7e3dd443",
   "metadata": {},
   "outputs": [
    {
     "data": {
      "text/plain": [
       "Index(['status_id', 'status_type', 'status_published', 'num_reactions',\n",
       "       'num_comments', 'num_shares', 'num_likes', 'num_loves', 'num_wows',\n",
       "       'num_hahas', 'num_sads', 'num_angrys'],\n",
       "      dtype='object')"
      ]
     },
     "execution_count": 13,
     "metadata": {},
     "output_type": "execute_result"
    }
   ],
   "source": [
    "df.columns"
   ]
  },
  {
   "cell_type": "markdown",
   "id": "fe5fbb65",
   "metadata": {},
   "source": [
    "### Gestión de variables\n",
    "\n",
    "* **Status_id:** Esta variable no nos aporta nada a la hora de hacer nuestra clusterización ya que no es esencial para realizar nuestro modelo, por ello primero eliminamos los registros duplicados del id de publicaciones ya que al tratarse del id de cada post, sea en el formato que sea, que haya duplicados nos indica que se han registrado doblemente algunos de ellos, y después procedemos a eliminar la columna."
   ]
  },
  {
   "cell_type": "code",
   "execution_count": 14,
   "id": "b0b453b3",
   "metadata": {},
   "outputs": [],
   "source": [
    "df = df.drop_duplicates(subset='status_id', keep='last')"
   ]
  },
  {
   "cell_type": "code",
   "execution_count": 15,
   "id": "cfb42fdf",
   "metadata": {},
   "outputs": [
    {
     "data": {
      "text/plain": [
       "Index(['status_type', 'status_published', 'num_reactions', 'num_comments',\n",
       "       'num_shares', 'num_likes', 'num_loves', 'num_wows', 'num_hahas',\n",
       "       'num_sads', 'num_angrys'],\n",
       "      dtype='object')"
      ]
     },
     "execution_count": 15,
     "metadata": {},
     "output_type": "execute_result"
    }
   ],
   "source": [
    "df.drop(['status_id'], axis=1, inplace=True)\n",
    "df.columns"
   ]
  },
  {
   "cell_type": "markdown",
   "id": "7abb8061",
   "metadata": {},
   "source": [
    "* **Status_published:** Otra columna de la que precindiremos es la fecha de publicación, ya que es irrelevante para la clusterización que vamos a realizar que será en función de la reacción a la publicación. "
   ]
  },
  {
   "cell_type": "code",
   "execution_count": 16,
   "id": "7005161d",
   "metadata": {},
   "outputs": [
    {
     "data": {
      "text/plain": [
       "Index(['status_type', 'num_reactions', 'num_comments', 'num_shares',\n",
       "       'num_likes', 'num_loves', 'num_wows', 'num_hahas', 'num_sads',\n",
       "       'num_angrys'],\n",
       "      dtype='object')"
      ]
     },
     "execution_count": 16,
     "metadata": {},
     "output_type": "execute_result"
    }
   ],
   "source": [
    "df.drop(['status_published'], axis=1, inplace=True)\n",
    "df.columns"
   ]
  },
  {
   "cell_type": "code",
   "execution_count": 17,
   "id": "3ba5f98e",
   "metadata": {},
   "outputs": [
    {
     "data": {
      "text/plain": [
       "(6997, 10)"
      ]
     },
     "execution_count": 17,
     "metadata": {},
     "output_type": "execute_result"
    }
   ],
   "source": [
    "df.shape"
   ]
  },
  {
   "cell_type": "markdown",
   "id": "997336a6",
   "metadata": {},
   "source": [
    "### Gestión de dummies\n",
    "\n",
    "* **Status_type:** nos dice de qué tipo de publicación se trata, tenemos cuatro tipos y procedemos a descomponerla en dummies."
   ]
  },
  {
   "cell_type": "code",
   "execution_count": 18,
   "id": "472cf707",
   "metadata": {},
   "outputs": [
    {
     "data": {
      "text/plain": [
       "array(['video', 'photo', 'link', 'status'], dtype=object)"
      ]
     },
     "execution_count": 18,
     "metadata": {},
     "output_type": "execute_result"
    }
   ],
   "source": [
    "df.status_type.unique()"
   ]
  },
  {
   "cell_type": "code",
   "execution_count": 19,
   "id": "03a4da70",
   "metadata": {},
   "outputs": [
    {
     "data": {
      "text/plain": [
       "4"
      ]
     },
     "execution_count": 19,
     "metadata": {},
     "output_type": "execute_result"
    }
   ],
   "source": [
    "df.status_type.nunique()"
   ]
  },
  {
   "cell_type": "code",
   "execution_count": 20,
   "id": "6d965159",
   "metadata": {},
   "outputs": [
    {
     "data": {
      "text/plain": [
       "photo     4242\n",
       "video     2333\n",
       "status     359\n",
       "link        63\n",
       "Name: status_type, dtype: int64"
      ]
     },
     "execution_count": 20,
     "metadata": {},
     "output_type": "execute_result"
    }
   ],
   "source": [
    "df[\"status_type\"].value_counts()"
   ]
  },
  {
   "cell_type": "code",
   "execution_count": 21,
   "id": "caf276f6",
   "metadata": {},
   "outputs": [
    {
     "data": {
      "image/png": "[encoded data removed]",
      "text/plain": [
       "<Figure size 432x288 with 1 Axes>"
      ]
     },
     "metadata": {
      "needs_background": "light"
     },
     "output_type": "display_data"
    }
   ],
   "source": [
    "df.status_type.hist();"
   ]
  },
  {
   "cell_type": "code",
   "execution_count": 22,
   "id": "a284f642",
   "metadata": {},
   "outputs": [
    {
     "data": {
      "text/plain": [
       "status_type      object\n",
       "num_reactions     int64\n",
       "num_comments      int64\n",
       "num_shares        int64\n",
       "num_likes         int64\n",
       "num_loves         int64\n",
       "num_wows          int64\n",
       "num_hahas         int64\n",
       "num_sads          int64\n",
       "num_angrys        int64\n",
       "dtype: object"
      ]
     },
     "execution_count": 22,
     "metadata": {},
     "output_type": "execute_result"
    }
   ],
   "source": [
    "df.dtypes"
   ]
  },
  {
   "cell_type": "code",
   "execution_count": 23,
   "id": "70b05ce3",
   "metadata": {},
   "outputs": [
    {
     "data": {
      "text/html": [
       "<div>\n",
       "<style scoped>\n",
       "    .dataframe tbody tr th:only-of-type {\n",
       "        vertical-align: middle;\n",
       "    }\n",
       "\n",
       "    .dataframe tbody tr th {\n",
       "        vertical-align: top;\n",
       "    }\n",
       "\n",
       "    .dataframe thead th {\n",
       "        text-align: right;\n",
       "    }\n",
       "</style>\n",
       "<table border=\"1\" class=\"dataframe\">\n",
       "  <thead>\n",
       "    <tr style=\"text-align: right;\">\n",
       "      <th></th>\n",
       "      <th>num_reactions</th>\n",
       "      <th>num_comments</th>\n",
       "      <th>num_shares</th>\n",
       "      <th>num_likes</th>\n",
       "      <th>num_loves</th>\n",
       "      <th>num_wows</th>\n",
       "      <th>num_hahas</th>\n",
       "      <th>num_sads</th>\n",
       "      <th>num_angrys</th>\n",
       "      <th>status_type_link</th>\n",
       "      <th>status_type_photo</th>\n",
       "      <th>status_type_status</th>\n",
       "      <th>status_type_video</th>\n",
       "    </tr>\n",
       "  </thead>\n",
       "  <tbody>\n",
       "    <tr>\n",
       "      <th>0</th>\n",
       "      <td>529</td>\n",
       "      <td>512</td>\n",
       "      <td>262</td>\n",
       "      <td>432</td>\n",
       "      <td>92</td>\n",
       "      <td>3</td>\n",
       "      <td>1</td>\n",
       "      <td>1</td>\n",
       "      <td>0</td>\n",
       "      <td>0</td>\n",
       "      <td>0</td>\n",
       "      <td>0</td>\n",
       "      <td>1</td>\n",
       "    </tr>\n",
       "    <tr>\n",
       "      <th>1</th>\n",
       "      <td>150</td>\n",
       "      <td>0</td>\n",
       "      <td>0</td>\n",
       "      <td>150</td>\n",
       "      <td>0</td>\n",
       "      <td>0</td>\n",
       "      <td>0</td>\n",
       "      <td>0</td>\n",
       "      <td>0</td>\n",
       "      <td>0</td>\n",
       "      <td>1</td>\n",
       "      <td>0</td>\n",
       "      <td>0</td>\n",
       "    </tr>\n",
       "    <tr>\n",
       "      <th>2</th>\n",
       "      <td>227</td>\n",
       "      <td>236</td>\n",
       "      <td>57</td>\n",
       "      <td>204</td>\n",
       "      <td>21</td>\n",
       "      <td>1</td>\n",
       "      <td>1</td>\n",
       "      <td>0</td>\n",
       "      <td>0</td>\n",
       "      <td>0</td>\n",
       "      <td>0</td>\n",
       "      <td>0</td>\n",
       "      <td>1</td>\n",
       "    </tr>\n",
       "    <tr>\n",
       "      <th>3</th>\n",
       "      <td>111</td>\n",
       "      <td>0</td>\n",
       "      <td>0</td>\n",
       "      <td>111</td>\n",
       "      <td>0</td>\n",
       "      <td>0</td>\n",
       "      <td>0</td>\n",
       "      <td>0</td>\n",
       "      <td>0</td>\n",
       "      <td>0</td>\n",
       "      <td>1</td>\n",
       "      <td>0</td>\n",
       "      <td>0</td>\n",
       "    </tr>\n",
       "    <tr>\n",
       "      <th>4</th>\n",
       "      <td>213</td>\n",
       "      <td>0</td>\n",
       "      <td>0</td>\n",
       "      <td>204</td>\n",
       "      <td>9</td>\n",
       "      <td>0</td>\n",
       "      <td>0</td>\n",
       "      <td>0</td>\n",
       "      <td>0</td>\n",
       "      <td>0</td>\n",
       "      <td>1</td>\n",
       "      <td>0</td>\n",
       "      <td>0</td>\n",
       "    </tr>\n",
       "  </tbody>\n",
       "</table>\n",
       "</div>"
      ],
      "text/plain": [
       "   num_reactions  num_comments  num_shares  num_likes  num_loves  num_wows  \\\n",
       "0            529           512         262        432         92         3   \n",
       "1            150             0           0        150          0         0   \n",
       "2            227           236          57        204         21         1   \n",
       "3            111             0           0        111          0         0   \n",
       "4            213             0           0        204          9         0   \n",
       "\n",
       "   num_hahas  num_sads  num_angrys  status_type_link  status_type_photo  \\\n",
       "0          1         1           0                 0                  0   \n",
       "1          0         0           0                 0                  1   \n",
       "2          1         0           0                 0                  0   \n",
       "3          0         0           0                 0                  1   \n",
       "4          0         0           0                 0                  1   \n",
       "\n",
       "   status_type_status  status_type_video  \n",
       "0                   0                  1  \n",
       "1                   0                  0  \n",
       "2                   0                  1  \n",
       "3                   0                  0  \n",
       "4                   0                  0  "
      ]
     },
     "execution_count": 23,
     "metadata": {},
     "output_type": "execute_result"
    }
   ],
   "source": [
    "df = pd.get_dummies(df, columns=['status_type'])\n",
    "df.head()"
   ]
  },
  {
   "cell_type": "markdown",
   "id": "4d28e3c9",
   "metadata": {},
   "source": [
    "### Análisis descritptivo y visual de los datos\n",
    "\n",
    "A continuación observaremos los comportamientos estadísticos, descriptivos y visuales de los datos.\n",
    "\n",
    "[Documentación Seaborn](https://seaborn.pydata.org/generated/seaborn.boxplot.html)"
   ]
  },
  {
   "cell_type": "code",
   "execution_count": 24,
   "id": "f5d95fb5",
   "metadata": {},
   "outputs": [
    {
     "data": {
      "text/plain": [
       "num_reactions         int64\n",
       "num_comments          int64\n",
       "num_shares            int64\n",
       "num_likes             int64\n",
       "num_loves             int64\n",
       "num_wows              int64\n",
       "num_hahas             int64\n",
       "num_sads              int64\n",
       "num_angrys            int64\n",
       "status_type_link      uint8\n",
       "status_type_photo     uint8\n",
       "status_type_status    uint8\n",
       "status_type_video     uint8\n",
       "dtype: object"
      ]
     },
     "execution_count": 24,
     "metadata": {},
     "output_type": "execute_result"
    }
   ],
   "source": [
    "df.dtypes"
   ]
  },
  {
   "cell_type": "code",
   "execution_count": 25,
   "id": "c14b7b2f",
   "metadata": {},
   "outputs": [
    {
     "name": "stdout",
     "output_type": "stream",
     "text": [
      "<class 'pandas.core.frame.DataFrame'>\n",
      "Int64Index: 6997 entries, 0 to 7049\n",
      "Data columns (total 13 columns):\n",
      " #   Column              Non-Null Count  Dtype\n",
      "---  ------              --------------  -----\n",
      " 0   num_reactions       6997 non-null   int64\n",
      " 1   num_comments        6997 non-null   int64\n",
      " 2   num_shares          6997 non-null   int64\n",
      " 3   num_likes           6997 non-null   int64\n",
      " 4   num_loves           6997 non-null   int64\n",
      " 5   num_wows            6997 non-null   int64\n",
      " 6   num_hahas           6997 non-null   int64\n",
      " 7   num_sads            6997 non-null   int64\n",
      " 8   num_angrys          6997 non-null   int64\n",
      " 9   status_type_link    6997 non-null   uint8\n",
      " 10  status_type_photo   6997 non-null   uint8\n",
      " 11  status_type_status  6997 non-null   uint8\n",
      " 12  status_type_video   6997 non-null   uint8\n",
      "dtypes: int64(9), uint8(4)\n",
      "memory usage: 574.0 KB\n"
     ]
    }
   ],
   "source": [
    "df.info()"
   ]
  },
  {
   "cell_type": "code",
   "execution_count": 26,
   "id": "b65e8d00",
   "metadata": {},
   "outputs": [
    {
     "data": {
      "text/plain": [
       "num_reactions         1067\n",
       "num_comments           993\n",
       "num_shares             501\n",
       "num_likes             1044\n",
       "num_loves              229\n",
       "num_wows                65\n",
       "num_hahas               42\n",
       "num_sads                24\n",
       "num_angrys              14\n",
       "status_type_link         2\n",
       "status_type_photo        2\n",
       "status_type_status       2\n",
       "status_type_video        2\n",
       "dtype: int64"
      ]
     },
     "execution_count": 26,
     "metadata": {},
     "output_type": "execute_result"
    }
   ],
   "source": [
    "df.nunique()"
   ]
  },
  {
   "cell_type": "code",
   "execution_count": 27,
   "id": "20580c2c",
   "metadata": {},
   "outputs": [
    {
     "data": {
      "text/html": [
       "<div>\n",
       "<style scoped>\n",
       "    .dataframe tbody tr th:only-of-type {\n",
       "        vertical-align: middle;\n",
       "    }\n",
       "\n",
       "    .dataframe tbody tr th {\n",
       "        vertical-align: top;\n",
       "    }\n",
       "\n",
       "    .dataframe thead th {\n",
       "        text-align: right;\n",
       "    }\n",
       "</style>\n",
       "<table border=\"1\" class=\"dataframe\">\n",
       "  <thead>\n",
       "    <tr style=\"text-align: right;\">\n",
       "      <th></th>\n",
       "      <th>count</th>\n",
       "      <th>mean</th>\n",
       "      <th>std</th>\n",
       "      <th>min</th>\n",
       "      <th>25%</th>\n",
       "      <th>50%</th>\n",
       "      <th>75%</th>\n",
       "      <th>max</th>\n",
       "    </tr>\n",
       "  </thead>\n",
       "  <tbody>\n",
       "    <tr>\n",
       "      <th>num_reactions</th>\n",
       "      <td>6997.0</td>\n",
       "      <td>224.951979</td>\n",
       "      <td>452.930082</td>\n",
       "      <td>0.0</td>\n",
       "      <td>17.0</td>\n",
       "      <td>58.0</td>\n",
       "      <td>216.0</td>\n",
       "      <td>4710.0</td>\n",
       "    </tr>\n",
       "    <tr>\n",
       "      <th>num_comments</th>\n",
       "      <td>6997.0</td>\n",
       "      <td>225.613977</td>\n",
       "      <td>892.863091</td>\n",
       "      <td>0.0</td>\n",
       "      <td>0.0</td>\n",
       "      <td>4.0</td>\n",
       "      <td>22.0</td>\n",
       "      <td>20990.0</td>\n",
       "    </tr>\n",
       "    <tr>\n",
       "      <th>num_shares</th>\n",
       "      <td>6997.0</td>\n",
       "      <td>40.269973</td>\n",
       "      <td>132.064065</td>\n",
       "      <td>0.0</td>\n",
       "      <td>0.0</td>\n",
       "      <td>0.0</td>\n",
       "      <td>4.0</td>\n",
       "      <td>3424.0</td>\n",
       "    </tr>\n",
       "    <tr>\n",
       "      <th>num_likes</th>\n",
       "      <td>6997.0</td>\n",
       "      <td>209.899814</td>\n",
       "      <td>439.595761</td>\n",
       "      <td>0.0</td>\n",
       "      <td>17.0</td>\n",
       "      <td>57.0</td>\n",
       "      <td>182.0</td>\n",
       "      <td>4710.0</td>\n",
       "    </tr>\n",
       "    <tr>\n",
       "      <th>num_loves</th>\n",
       "      <td>6997.0</td>\n",
       "      <td>12.755181</td>\n",
       "      <td>40.112024</td>\n",
       "      <td>0.0</td>\n",
       "      <td>0.0</td>\n",
       "      <td>0.0</td>\n",
       "      <td>3.0</td>\n",
       "      <td>657.0</td>\n",
       "    </tr>\n",
       "    <tr>\n",
       "      <th>num_wows</th>\n",
       "      <td>6997.0</td>\n",
       "      <td>1.253251</td>\n",
       "      <td>8.726772</td>\n",
       "      <td>0.0</td>\n",
       "      <td>0.0</td>\n",
       "      <td>0.0</td>\n",
       "      <td>0.0</td>\n",
       "      <td>278.0</td>\n",
       "    </tr>\n",
       "    <tr>\n",
       "      <th>num_hahas</th>\n",
       "      <td>6997.0</td>\n",
       "      <td>0.698156</td>\n",
       "      <td>3.971462</td>\n",
       "      <td>0.0</td>\n",
       "      <td>0.0</td>\n",
       "      <td>0.0</td>\n",
       "      <td>0.0</td>\n",
       "      <td>157.0</td>\n",
       "    </tr>\n",
       "    <tr>\n",
       "      <th>num_sads</th>\n",
       "      <td>6997.0</td>\n",
       "      <td>0.232671</td>\n",
       "      <td>1.481312</td>\n",
       "      <td>0.0</td>\n",
       "      <td>0.0</td>\n",
       "      <td>0.0</td>\n",
       "      <td>0.0</td>\n",
       "      <td>51.0</td>\n",
       "    </tr>\n",
       "    <tr>\n",
       "      <th>num_angrys</th>\n",
       "      <td>6997.0</td>\n",
       "      <td>0.110190</td>\n",
       "      <td>0.688678</td>\n",
       "      <td>0.0</td>\n",
       "      <td>0.0</td>\n",
       "      <td>0.0</td>\n",
       "      <td>0.0</td>\n",
       "      <td>31.0</td>\n",
       "    </tr>\n",
       "    <tr>\n",
       "      <th>status_type_link</th>\n",
       "      <td>6997.0</td>\n",
       "      <td>0.009004</td>\n",
       "      <td>0.094467</td>\n",
       "      <td>0.0</td>\n",
       "      <td>0.0</td>\n",
       "      <td>0.0</td>\n",
       "      <td>0.0</td>\n",
       "      <td>1.0</td>\n",
       "    </tr>\n",
       "    <tr>\n",
       "      <th>status_type_photo</th>\n",
       "      <td>6997.0</td>\n",
       "      <td>0.606260</td>\n",
       "      <td>0.488613</td>\n",
       "      <td>0.0</td>\n",
       "      <td>0.0</td>\n",
       "      <td>1.0</td>\n",
       "      <td>1.0</td>\n",
       "      <td>1.0</td>\n",
       "    </tr>\n",
       "    <tr>\n",
       "      <th>status_type_status</th>\n",
       "      <td>6997.0</td>\n",
       "      <td>0.051308</td>\n",
       "      <td>0.220640</td>\n",
       "      <td>0.0</td>\n",
       "      <td>0.0</td>\n",
       "      <td>0.0</td>\n",
       "      <td>0.0</td>\n",
       "      <td>1.0</td>\n",
       "    </tr>\n",
       "    <tr>\n",
       "      <th>status_type_video</th>\n",
       "      <td>6997.0</td>\n",
       "      <td>0.333429</td>\n",
       "      <td>0.471472</td>\n",
       "      <td>0.0</td>\n",
       "      <td>0.0</td>\n",
       "      <td>0.0</td>\n",
       "      <td>1.0</td>\n",
       "      <td>1.0</td>\n",
       "    </tr>\n",
       "  </tbody>\n",
       "</table>\n",
       "</div>"
      ],
      "text/plain": [
       "                     count        mean         std  min   25%   50%    75%  \\\n",
       "num_reactions       6997.0  224.951979  452.930082  0.0  17.0  58.0  216.0   \n",
       "num_comments        6997.0  225.613977  892.863091  0.0   0.0   4.0   22.0   \n",
       "num_shares          6997.0   40.269973  132.064065  0.0   0.0   0.0    4.0   \n",
       "num_likes           6997.0  209.899814  439.595761  0.0  17.0  57.0  182.0   \n",
       "num_loves           6997.0   12.755181   40.112024  0.0   0.0   0.0    3.0   \n",
       "num_wows            6997.0    1.253251    8.726772  0.0   0.0   0.0    0.0   \n",
       "num_hahas           6997.0    0.698156    3.971462  0.0   0.0   0.0    0.0   \n",
       "num_sads            6997.0    0.232671    1.481312  0.0   0.0   0.0    0.0   \n",
       "num_angrys          6997.0    0.110190    0.688678  0.0   0.0   0.0    0.0   \n",
       "status_type_link    6997.0    0.009004    0.094467  0.0   0.0   0.0    0.0   \n",
       "status_type_photo   6997.0    0.606260    0.488613  0.0   0.0   1.0    1.0   \n",
       "status_type_status  6997.0    0.051308    0.220640  0.0   0.0   0.0    0.0   \n",
       "status_type_video   6997.0    0.333429    0.471472  0.0   0.0   0.0    1.0   \n",
       "\n",
       "                        max  \n",
       "num_reactions        4710.0  \n",
       "num_comments        20990.0  \n",
       "num_shares           3424.0  \n",
       "num_likes            4710.0  \n",
       "num_loves             657.0  \n",
       "num_wows              278.0  \n",
       "num_hahas             157.0  \n",
       "num_sads               51.0  \n",
       "num_angrys             31.0  \n",
       "status_type_link        1.0  \n",
       "status_type_photo       1.0  \n",
       "status_type_status      1.0  \n",
       "status_type_video       1.0  "
      ]
     },
     "execution_count": 27,
     "metadata": {},
     "output_type": "execute_result"
    }
   ],
   "source": [
    "df.describe().T"
   ]
  },
  {
   "cell_type": "code",
   "execution_count": 28,
   "id": "45c0fefd",
   "metadata": {},
   "outputs": [
    {
     "data": {
      "text/plain": [
       "num_reactions         58.0\n",
       "num_comments           4.0\n",
       "num_shares             0.0\n",
       "num_likes             57.0\n",
       "num_loves              0.0\n",
       "num_wows               0.0\n",
       "num_hahas              0.0\n",
       "num_sads               0.0\n",
       "num_angrys             0.0\n",
       "status_type_link       0.0\n",
       "status_type_photo      1.0\n",
       "status_type_status     0.0\n",
       "status_type_video      0.0\n",
       "dtype: float64"
      ]
     },
     "execution_count": 28,
     "metadata": {},
     "output_type": "execute_result"
    }
   ],
   "source": [
    "df.median()"
   ]
  },
  {
   "cell_type": "code",
   "execution_count": 29,
   "id": "3d598082",
   "metadata": {},
   "outputs": [
    {
     "data": {
      "text/html": [
       "<div>\n",
       "<style scoped>\n",
       "    .dataframe tbody tr th:only-of-type {\n",
       "        vertical-align: middle;\n",
       "    }\n",
       "\n",
       "    .dataframe tbody tr th {\n",
       "        vertical-align: top;\n",
       "    }\n",
       "\n",
       "    .dataframe thead th {\n",
       "        text-align: right;\n",
       "    }\n",
       "</style>\n",
       "<table border=\"1\" class=\"dataframe\">\n",
       "  <thead>\n",
       "    <tr style=\"text-align: right;\">\n",
       "      <th></th>\n",
       "      <th>num_reactions</th>\n",
       "      <th>num_comments</th>\n",
       "      <th>num_shares</th>\n",
       "      <th>num_likes</th>\n",
       "      <th>num_loves</th>\n",
       "      <th>num_wows</th>\n",
       "      <th>num_hahas</th>\n",
       "      <th>num_sads</th>\n",
       "      <th>num_angrys</th>\n",
       "      <th>status_type_link</th>\n",
       "      <th>status_type_photo</th>\n",
       "      <th>status_type_status</th>\n",
       "      <th>status_type_video</th>\n",
       "    </tr>\n",
       "  </thead>\n",
       "  <tbody>\n",
       "    <tr>\n",
       "      <th>num_reactions</th>\n",
       "      <td>1.000000</td>\n",
       "      <td>0.156218</td>\n",
       "      <td>0.259680</td>\n",
       "      <td>0.994672</td>\n",
       "      <td>0.310690</td>\n",
       "      <td>0.261717</td>\n",
       "      <td>0.179681</td>\n",
       "      <td>0.082112</td>\n",
       "      <td>0.136084</td>\n",
       "      <td>0.030557</td>\n",
       "      <td>-0.144434</td>\n",
       "      <td>0.111832</td>\n",
       "      <td>0.091227</td>\n",
       "    </tr>\n",
       "    <tr>\n",
       "      <th>num_comments</th>\n",
       "      <td>0.156218</td>\n",
       "      <td>1.000000</td>\n",
       "      <td>0.640528</td>\n",
       "      <td>0.105964</td>\n",
       "      <td>0.521310</td>\n",
       "      <td>0.163498</td>\n",
       "      <td>0.325056</td>\n",
       "      <td>0.257537</td>\n",
       "      <td>0.239549</td>\n",
       "      <td>-0.023479</td>\n",
       "      <td>-0.292059</td>\n",
       "      <td>-0.049279</td>\n",
       "      <td>0.330443</td>\n",
       "    </tr>\n",
       "    <tr>\n",
       "      <th>num_shares</th>\n",
       "      <td>0.259680</td>\n",
       "      <td>0.640528</td>\n",
       "      <td>1.000000</td>\n",
       "      <td>0.179705</td>\n",
       "      <td>0.820279</td>\n",
       "      <td>0.409797</td>\n",
       "      <td>0.399855</td>\n",
       "      <td>0.218618</td>\n",
       "      <td>0.332347</td>\n",
       "      <td>-0.025894</td>\n",
       "      <td>-0.354980</td>\n",
       "      <td>-0.066380</td>\n",
       "      <td>0.404140</td>\n",
       "    </tr>\n",
       "    <tr>\n",
       "      <th>num_likes</th>\n",
       "      <td>0.994672</td>\n",
       "      <td>0.105964</td>\n",
       "      <td>0.179705</td>\n",
       "      <td>1.000000</td>\n",
       "      <td>0.212760</td>\n",
       "      <td>0.200039</td>\n",
       "      <td>0.123154</td>\n",
       "      <td>0.057129</td>\n",
       "      <td>0.096298</td>\n",
       "      <td>0.034635</td>\n",
       "      <td>-0.112900</td>\n",
       "      <td>0.121497</td>\n",
       "      <td>0.053206</td>\n",
       "    </tr>\n",
       "    <tr>\n",
       "      <th>num_loves</th>\n",
       "      <td>0.310690</td>\n",
       "      <td>0.521310</td>\n",
       "      <td>0.820279</td>\n",
       "      <td>0.212760</td>\n",
       "      <td>1.000000</td>\n",
       "      <td>0.510144</td>\n",
       "      <td>0.507892</td>\n",
       "      <td>0.226564</td>\n",
       "      <td>0.394810</td>\n",
       "      <td>-0.029596</td>\n",
       "      <td>-0.352689</td>\n",
       "      <td>-0.065089</td>\n",
       "      <td>0.401902</td>\n",
       "    </tr>\n",
       "    <tr>\n",
       "      <th>num_wows</th>\n",
       "      <td>0.261717</td>\n",
       "      <td>0.163498</td>\n",
       "      <td>0.409797</td>\n",
       "      <td>0.200039</td>\n",
       "      <td>0.510144</td>\n",
       "      <td>1.000000</td>\n",
       "      <td>0.288463</td>\n",
       "      <td>0.091419</td>\n",
       "      <td>0.191667</td>\n",
       "      <td>-0.011609</td>\n",
       "      <td>-0.090285</td>\n",
       "      <td>-0.001998</td>\n",
       "      <td>0.096829</td>\n",
       "    </tr>\n",
       "    <tr>\n",
       "      <th>num_hahas</th>\n",
       "      <td>0.179681</td>\n",
       "      <td>0.325056</td>\n",
       "      <td>0.399855</td>\n",
       "      <td>0.123154</td>\n",
       "      <td>0.507892</td>\n",
       "      <td>0.288463</td>\n",
       "      <td>1.000000</td>\n",
       "      <td>0.154029</td>\n",
       "      <td>0.225077</td>\n",
       "      <td>-0.015996</td>\n",
       "      <td>-0.159739</td>\n",
       "      <td>-0.034360</td>\n",
       "      <td>0.184831</td>\n",
       "    </tr>\n",
       "    <tr>\n",
       "      <th>num_sads</th>\n",
       "      <td>0.082112</td>\n",
       "      <td>0.257537</td>\n",
       "      <td>0.218618</td>\n",
       "      <td>0.057129</td>\n",
       "      <td>0.226564</td>\n",
       "      <td>0.091419</td>\n",
       "      <td>0.154029</td>\n",
       "      <td>1.000000</td>\n",
       "      <td>0.143704</td>\n",
       "      <td>-0.014973</td>\n",
       "      <td>-0.089065</td>\n",
       "      <td>0.018574</td>\n",
       "      <td>0.086611</td>\n",
       "    </tr>\n",
       "    <tr>\n",
       "      <th>num_angrys</th>\n",
       "      <td>0.136084</td>\n",
       "      <td>0.239549</td>\n",
       "      <td>0.332347</td>\n",
       "      <td>0.096298</td>\n",
       "      <td>0.394810</td>\n",
       "      <td>0.191667</td>\n",
       "      <td>0.225077</td>\n",
       "      <td>0.143704</td>\n",
       "      <td>1.000000</td>\n",
       "      <td>-0.015252</td>\n",
       "      <td>-0.126767</td>\n",
       "      <td>-0.028746</td>\n",
       "      <td>0.147884</td>\n",
       "    </tr>\n",
       "    <tr>\n",
       "      <th>status_type_link</th>\n",
       "      <td>0.030557</td>\n",
       "      <td>-0.023479</td>\n",
       "      <td>-0.025894</td>\n",
       "      <td>0.034635</td>\n",
       "      <td>-0.029596</td>\n",
       "      <td>-0.011609</td>\n",
       "      <td>-0.015996</td>\n",
       "      <td>-0.014973</td>\n",
       "      <td>-0.015252</td>\n",
       "      <td>1.000000</td>\n",
       "      <td>-0.118278</td>\n",
       "      <td>-0.022167</td>\n",
       "      <td>-0.067415</td>\n",
       "    </tr>\n",
       "    <tr>\n",
       "      <th>status_type_photo</th>\n",
       "      <td>-0.144434</td>\n",
       "      <td>-0.292059</td>\n",
       "      <td>-0.354980</td>\n",
       "      <td>-0.112900</td>\n",
       "      <td>-0.352689</td>\n",
       "      <td>-0.090285</td>\n",
       "      <td>-0.159739</td>\n",
       "      <td>-0.089065</td>\n",
       "      <td>-0.126767</td>\n",
       "      <td>-0.118278</td>\n",
       "      <td>1.000000</td>\n",
       "      <td>-0.288571</td>\n",
       "      <td>-0.877612</td>\n",
       "    </tr>\n",
       "    <tr>\n",
       "      <th>status_type_status</th>\n",
       "      <td>0.111832</td>\n",
       "      <td>-0.049279</td>\n",
       "      <td>-0.066380</td>\n",
       "      <td>0.121497</td>\n",
       "      <td>-0.065089</td>\n",
       "      <td>-0.001998</td>\n",
       "      <td>-0.034360</td>\n",
       "      <td>0.018574</td>\n",
       "      <td>-0.028746</td>\n",
       "      <td>-0.022167</td>\n",
       "      <td>-0.288571</td>\n",
       "      <td>1.000000</td>\n",
       "      <td>-0.164478</td>\n",
       "    </tr>\n",
       "    <tr>\n",
       "      <th>status_type_video</th>\n",
       "      <td>0.091227</td>\n",
       "      <td>0.330443</td>\n",
       "      <td>0.404140</td>\n",
       "      <td>0.053206</td>\n",
       "      <td>0.401902</td>\n",
       "      <td>0.096829</td>\n",
       "      <td>0.184831</td>\n",
       "      <td>0.086611</td>\n",
       "      <td>0.147884</td>\n",
       "      <td>-0.067415</td>\n",
       "      <td>-0.877612</td>\n",
       "      <td>-0.164478</td>\n",
       "      <td>1.000000</td>\n",
       "    </tr>\n",
       "  </tbody>\n",
       "</table>\n",
       "</div>"
      ],
      "text/plain": [
       "                    num_reactions  num_comments  num_shares  num_likes  \\\n",
       "num_reactions            1.000000      0.156218    0.259680   0.994672   \n",
       "num_comments             0.156218      1.000000    0.640528   0.105964   \n",
       "num_shares               0.259680      0.640528    1.000000   0.179705   \n",
       "num_likes                0.994672      0.105964    0.179705   1.000000   \n",
       "num_loves                0.310690      0.521310    0.820279   0.212760   \n",
       "num_wows                 0.261717      0.163498    0.409797   0.200039   \n",
       "num_hahas                0.179681      0.325056    0.399855   0.123154   \n",
       "num_sads                 0.082112      0.257537    0.218618   0.057129   \n",
       "num_angrys               0.136084      0.239549    0.332347   0.096298   \n",
       "status_type_link         0.030557     -0.023479   -0.025894   0.034635   \n",
       "status_type_photo       -0.144434     -0.292059   -0.354980  -0.112900   \n",
       "status_type_status       0.111832     -0.049279   -0.066380   0.121497   \n",
       "status_type_video        0.091227      0.330443    0.404140   0.053206   \n",
       "\n",
       "                    num_loves  num_wows  num_hahas  num_sads  num_angrys  \\\n",
       "num_reactions        0.310690  0.261717   0.179681  0.082112    0.136084   \n",
       "num_comments         0.521310  0.163498   0.325056  0.257537    0.239549   \n",
       "num_shares           0.820279  0.409797   0.399855  0.218618    0.332347   \n",
       "num_likes            0.212760  0.200039   0.123154  0.057129    0.096298   \n",
       "num_loves            1.000000  0.510144   0.507892  0.226564    0.394810   \n",
       "num_wows             0.510144  1.000000   0.288463  0.091419    0.191667   \n",
       "num_hahas            0.507892  0.288463   1.000000  0.154029    0.225077   \n",
       "num_sads             0.226564  0.091419   0.154029  1.000000    0.143704   \n",
       "num_angrys           0.394810  0.191667   0.225077  0.143704    1.000000   \n",
       "status_type_link    -0.029596 -0.011609  -0.015996 -0.014973   -0.015252   \n",
       "status_type_photo   -0.352689 -0.090285  -0.159739 -0.089065   -0.126767   \n",
       "status_type_status  -0.065089 -0.001998  -0.034360  0.018574   -0.028746   \n",
       "status_type_video    0.401902  0.096829   0.184831  0.086611    0.147884   \n",
       "\n",
       "                    status_type_link  status_type_photo  status_type_status  \\\n",
       "num_reactions               0.030557          -0.144434            0.111832   \n",
       "num_comments               -0.023479          -0.292059           -0.049279   \n",
       "num_shares                 -0.025894          -0.354980           -0.066380   \n",
       "num_likes                   0.034635          -0.112900            0.121497   \n",
       "num_loves                  -0.029596          -0.352689           -0.065089   \n",
       "num_wows                   -0.011609          -0.090285           -0.001998   \n",
       "num_hahas                  -0.015996          -0.159739           -0.034360   \n",
       "num_sads                   -0.014973          -0.089065            0.018574   \n",
       "num_angrys                 -0.015252          -0.126767           -0.028746   \n",
       "status_type_link            1.000000          -0.118278           -0.022167   \n",
       "status_type_photo          -0.118278           1.000000           -0.288571   \n",
       "status_type_status         -0.022167          -0.288571            1.000000   \n",
       "status_type_video          -0.067415          -0.877612           -0.164478   \n",
       "\n",
       "                    status_type_video  \n",
       "num_reactions                0.091227  \n",
       "num_comments                 0.330443  \n",
       "num_shares                   0.404140  \n",
       "num_likes                    0.053206  \n",
       "num_loves                    0.401902  \n",
       "num_wows                     0.096829  \n",
       "num_hahas                    0.184831  \n",
       "num_sads                     0.086611  \n",
       "num_angrys                   0.147884  \n",
       "status_type_link            -0.067415  \n",
       "status_type_photo           -0.877612  \n",
       "status_type_status          -0.164478  \n",
       "status_type_video            1.000000  "
      ]
     },
     "execution_count": 29,
     "metadata": {},
     "output_type": "execute_result"
    }
   ],
   "source": [
    "df.corr()"
   ]
  },
  {
   "cell_type": "code",
   "execution_count": 30,
   "id": "1919b0a0",
   "metadata": {},
   "outputs": [
    {
     "data": {
      "image/png": "[encoded data removed]",
      "text/plain": [
       "<Figure size 1296x1296 with 2 Axes>"
      ]
     },
     "metadata": {
      "needs_background": "light"
     },
     "output_type": "display_data"
    }
   ],
   "source": [
    "plt.figure(figsize=(18, 18))\n",
    "matriz_corr = df.corr()\n",
    "sns.heatmap(matriz_corr, annot=True, linecolor='white', cmap=\"crest\")\n",
    "plt.title('Correlación')\n",
    "plt.show()"
   ]
  },
  {
   "cell_type": "code",
   "execution_count": 31,
   "id": "caead5f3",
   "metadata": {},
   "outputs": [
    {
     "data": {
      "text/plain": [
       "Text(0.5, 1.0, 'Outliers')"
      ]
     },
     "execution_count": 31,
     "metadata": {},
     "output_type": "execute_result"
    },
    {
     "data": {
      "image/png": "[encoded data removed]",
      "text/plain": [
       "<Figure size 1296x1296 with 1 Axes>"
      ]
     },
     "metadata": {
      "needs_background": "light"
     },
     "output_type": "display_data"
    }
   ],
   "source": [
    "plt.figure(figsize=(18, 18))\n",
    "sns.boxplot(data=df, orient='h', palette= 'BuPu_r')\n",
    "plt.title('Outliers')"
   ]
  },
  {
   "cell_type": "code",
   "execution_count": 32,
   "id": "91f4bc37",
   "metadata": {},
   "outputs": [
    {
     "data": {
      "image/png": "[encoded data removed]",
      "text/plain": [
       "<Figure size 1296x1296 with 1 Axes>"
      ]
     },
     "metadata": {
      "needs_background": "light"
     },
     "output_type": "display_data"
    }
   ],
   "source": [
    "plt.figure(figsize=(18,18))\n",
    "Barplot = sns.barplot(data=df, orient='h', palette= 'BuPu_r')\n",
    "plt.title('Tipo de reacción')\n",
    "plt.show()"
   ]
  },
  {
   "cell_type": "code",
   "execution_count": 33,
   "id": "1de07781",
   "metadata": {},
   "outputs": [
    {
     "data": {
      "text/plain": [
       "<Figure size 864x864 with 0 Axes>"
      ]
     },
     "metadata": {},
     "output_type": "display_data"
    },
    {
     "data": {
      "image/png": "[encoded data removed]",
      "text/plain": [
       "<Figure size 432x288 with 16 Axes>"
      ]
     },
     "metadata": {
      "needs_background": "light"
     },
     "output_type": "display_data"
    }
   ],
   "source": [
    "plt.figure(figsize = (12,12))\n",
    "df.hist()\n",
    "plt.tight_layout()"
   ]
  },
  {
   "cell_type": "markdown",
   "id": "7c1e7df4",
   "metadata": {},
   "source": [
    "## Preprocesado de los datos\n",
    "\n",
    "Tras observar nuestros datos procedemos a preprocesarlos para facilitar nuestro modelado y viendo que nuestras columnas de reacciones (num_of...) cuentan todas con outliers vamos a utilizar [Robust Scaler](https://scikit-learn.org/stable/modules/generated/sklearn.preprocessing.RobustScaler.html).\n",
    "\n",
    "[Link](https://scikit-learn.org/stable/modules/classes.html)"
   ]
  },
  {
   "cell_type": "code",
   "execution_count": 34,
   "id": "bad8f6d3",
   "metadata": {},
   "outputs": [
    {
     "data": {
      "text/html": [
       "<div>\n",
       "<style scoped>\n",
       "    .dataframe tbody tr th:only-of-type {\n",
       "        vertical-align: middle;\n",
       "    }\n",
       "\n",
       "    .dataframe tbody tr th {\n",
       "        vertical-align: top;\n",
       "    }\n",
       "\n",
       "    .dataframe thead th {\n",
       "        text-align: right;\n",
       "    }\n",
       "</style>\n",
       "<table border=\"1\" class=\"dataframe\">\n",
       "  <thead>\n",
       "    <tr style=\"text-align: right;\">\n",
       "      <th></th>\n",
       "      <th>num_reactions</th>\n",
       "      <th>num_comments</th>\n",
       "      <th>num_shares</th>\n",
       "      <th>num_likes</th>\n",
       "      <th>num_loves</th>\n",
       "      <th>num_wows</th>\n",
       "      <th>num_hahas</th>\n",
       "      <th>num_sads</th>\n",
       "      <th>num_angrys</th>\n",
       "      <th>status_type_link</th>\n",
       "      <th>status_type_photo</th>\n",
       "      <th>status_type_status</th>\n",
       "      <th>status_type_video</th>\n",
       "    </tr>\n",
       "  </thead>\n",
       "  <tbody>\n",
       "    <tr>\n",
       "      <th>0</th>\n",
       "      <td>529</td>\n",
       "      <td>512</td>\n",
       "      <td>262</td>\n",
       "      <td>432</td>\n",
       "      <td>92</td>\n",
       "      <td>3</td>\n",
       "      <td>1</td>\n",
       "      <td>1</td>\n",
       "      <td>0</td>\n",
       "      <td>0</td>\n",
       "      <td>0</td>\n",
       "      <td>0</td>\n",
       "      <td>1</td>\n",
       "    </tr>\n",
       "    <tr>\n",
       "      <th>1</th>\n",
       "      <td>150</td>\n",
       "      <td>0</td>\n",
       "      <td>0</td>\n",
       "      <td>150</td>\n",
       "      <td>0</td>\n",
       "      <td>0</td>\n",
       "      <td>0</td>\n",
       "      <td>0</td>\n",
       "      <td>0</td>\n",
       "      <td>0</td>\n",
       "      <td>1</td>\n",
       "      <td>0</td>\n",
       "      <td>0</td>\n",
       "    </tr>\n",
       "    <tr>\n",
       "      <th>2</th>\n",
       "      <td>227</td>\n",
       "      <td>236</td>\n",
       "      <td>57</td>\n",
       "      <td>204</td>\n",
       "      <td>21</td>\n",
       "      <td>1</td>\n",
       "      <td>1</td>\n",
       "      <td>0</td>\n",
       "      <td>0</td>\n",
       "      <td>0</td>\n",
       "      <td>0</td>\n",
       "      <td>0</td>\n",
       "      <td>1</td>\n",
       "    </tr>\n",
       "    <tr>\n",
       "      <th>3</th>\n",
       "      <td>111</td>\n",
       "      <td>0</td>\n",
       "      <td>0</td>\n",
       "      <td>111</td>\n",
       "      <td>0</td>\n",
       "      <td>0</td>\n",
       "      <td>0</td>\n",
       "      <td>0</td>\n",
       "      <td>0</td>\n",
       "      <td>0</td>\n",
       "      <td>1</td>\n",
       "      <td>0</td>\n",
       "      <td>0</td>\n",
       "    </tr>\n",
       "    <tr>\n",
       "      <th>4</th>\n",
       "      <td>213</td>\n",
       "      <td>0</td>\n",
       "      <td>0</td>\n",
       "      <td>204</td>\n",
       "      <td>9</td>\n",
       "      <td>0</td>\n",
       "      <td>0</td>\n",
       "      <td>0</td>\n",
       "      <td>0</td>\n",
       "      <td>0</td>\n",
       "      <td>1</td>\n",
       "      <td>0</td>\n",
       "      <td>0</td>\n",
       "    </tr>\n",
       "    <tr>\n",
       "      <th>...</th>\n",
       "      <td>...</td>\n",
       "      <td>...</td>\n",
       "      <td>...</td>\n",
       "      <td>...</td>\n",
       "      <td>...</td>\n",
       "      <td>...</td>\n",
       "      <td>...</td>\n",
       "      <td>...</td>\n",
       "      <td>...</td>\n",
       "      <td>...</td>\n",
       "      <td>...</td>\n",
       "      <td>...</td>\n",
       "      <td>...</td>\n",
       "    </tr>\n",
       "    <tr>\n",
       "      <th>7045</th>\n",
       "      <td>89</td>\n",
       "      <td>0</td>\n",
       "      <td>0</td>\n",
       "      <td>89</td>\n",
       "      <td>0</td>\n",
       "      <td>0</td>\n",
       "      <td>0</td>\n",
       "      <td>0</td>\n",
       "      <td>0</td>\n",
       "      <td>0</td>\n",
       "      <td>1</td>\n",
       "      <td>0</td>\n",
       "      <td>0</td>\n",
       "    </tr>\n",
       "    <tr>\n",
       "      <th>7046</th>\n",
       "      <td>16</td>\n",
       "      <td>0</td>\n",
       "      <td>0</td>\n",
       "      <td>14</td>\n",
       "      <td>1</td>\n",
       "      <td>0</td>\n",
       "      <td>1</td>\n",
       "      <td>0</td>\n",
       "      <td>0</td>\n",
       "      <td>0</td>\n",
       "      <td>1</td>\n",
       "      <td>0</td>\n",
       "      <td>0</td>\n",
       "    </tr>\n",
       "    <tr>\n",
       "      <th>7047</th>\n",
       "      <td>2</td>\n",
       "      <td>0</td>\n",
       "      <td>0</td>\n",
       "      <td>1</td>\n",
       "      <td>1</td>\n",
       "      <td>0</td>\n",
       "      <td>0</td>\n",
       "      <td>0</td>\n",
       "      <td>0</td>\n",
       "      <td>0</td>\n",
       "      <td>1</td>\n",
       "      <td>0</td>\n",
       "      <td>0</td>\n",
       "    </tr>\n",
       "    <tr>\n",
       "      <th>7048</th>\n",
       "      <td>351</td>\n",
       "      <td>12</td>\n",
       "      <td>22</td>\n",
       "      <td>349</td>\n",
       "      <td>2</td>\n",
       "      <td>0</td>\n",
       "      <td>0</td>\n",
       "      <td>0</td>\n",
       "      <td>0</td>\n",
       "      <td>0</td>\n",
       "      <td>1</td>\n",
       "      <td>0</td>\n",
       "      <td>0</td>\n",
       "    </tr>\n",
       "    <tr>\n",
       "      <th>7049</th>\n",
       "      <td>17</td>\n",
       "      <td>0</td>\n",
       "      <td>0</td>\n",
       "      <td>17</td>\n",
       "      <td>0</td>\n",
       "      <td>0</td>\n",
       "      <td>0</td>\n",
       "      <td>0</td>\n",
       "      <td>0</td>\n",
       "      <td>0</td>\n",
       "      <td>1</td>\n",
       "      <td>0</td>\n",
       "      <td>0</td>\n",
       "    </tr>\n",
       "  </tbody>\n",
       "</table>\n",
       "<p>6997 rows × 13 columns</p>\n",
       "</div>"
      ],
      "text/plain": [
       "      num_reactions  num_comments  num_shares  num_likes  num_loves  num_wows  \\\n",
       "0               529           512         262        432         92         3   \n",
       "1               150             0           0        150          0         0   \n",
       "2               227           236          57        204         21         1   \n",
       "3               111             0           0        111          0         0   \n",
       "4               213             0           0        204          9         0   \n",
       "...             ...           ...         ...        ...        ...       ...   \n",
       "7045             89             0           0         89          0         0   \n",
       "7046             16             0           0         14          1         0   \n",
       "7047              2             0           0          1          1         0   \n",
       "7048            351            12          22        349          2         0   \n",
       "7049             17             0           0         17          0         0   \n",
       "\n",
       "      num_hahas  num_sads  num_angrys  status_type_link  status_type_photo  \\\n",
       "0             1         1           0                 0                  0   \n",
       "1             0         0           0                 0                  1   \n",
       "2             1         0           0                 0                  0   \n",
       "3             0         0           0                 0                  1   \n",
       "4             0         0           0                 0                  1   \n",
       "...         ...       ...         ...               ...                ...   \n",
       "7045          0         0           0                 0                  1   \n",
       "7046          1         0           0                 0                  1   \n",
       "7047          0         0           0                 0                  1   \n",
       "7048          0         0           0                 0                  1   \n",
       "7049          0         0           0                 0                  1   \n",
       "\n",
       "      status_type_status  status_type_video  \n",
       "0                      0                  1  \n",
       "1                      0                  0  \n",
       "2                      0                  1  \n",
       "3                      0                  0  \n",
       "4                      0                  0  \n",
       "...                  ...                ...  \n",
       "7045                   0                  0  \n",
       "7046                   0                  0  \n",
       "7047                   0                  0  \n",
       "7048                   0                  0  \n",
       "7049                   0                  0  \n",
       "\n",
       "[6997 rows x 13 columns]"
      ]
     },
     "execution_count": 34,
     "metadata": {},
     "output_type": "execute_result"
    }
   ],
   "source": [
    "df.b = df.copy()\n",
    "df.b"
   ]
  },
  {
   "cell_type": "code",
   "execution_count": 35,
   "id": "558c4d0b",
   "metadata": {},
   "outputs": [
    {
     "data": {
      "text/plain": [
       "Index(['num_reactions', 'num_comments', 'num_shares', 'num_likes', 'num_loves',\n",
       "       'num_wows', 'num_hahas', 'num_sads', 'num_angrys', 'status_type_link',\n",
       "       'status_type_photo', 'status_type_status', 'status_type_video'],\n",
       "      dtype='object')"
      ]
     },
     "execution_count": 35,
     "metadata": {},
     "output_type": "execute_result"
    }
   ],
   "source": [
    "df.columns"
   ]
  },
  {
   "cell_type": "code",
   "execution_count": 36,
   "id": "3b23d2e0",
   "metadata": {},
   "outputs": [
    {
     "data": {
      "text/html": [
       "<div>\n",
       "<style scoped>\n",
       "    .dataframe tbody tr th:only-of-type {\n",
       "        vertical-align: middle;\n",
       "    }\n",
       "\n",
       "    .dataframe tbody tr th {\n",
       "        vertical-align: top;\n",
       "    }\n",
       "\n",
       "    .dataframe thead th {\n",
       "        text-align: right;\n",
       "    }\n",
       "</style>\n",
       "<table border=\"1\" class=\"dataframe\">\n",
       "  <thead>\n",
       "    <tr style=\"text-align: right;\">\n",
       "      <th></th>\n",
       "      <th>num_reactions</th>\n",
       "      <th>num_comments</th>\n",
       "      <th>num_shares</th>\n",
       "      <th>num_likes</th>\n",
       "      <th>num_loves</th>\n",
       "      <th>num_wows</th>\n",
       "      <th>num_hahas</th>\n",
       "      <th>num_sads</th>\n",
       "      <th>num_angrys</th>\n",
       "      <th>status_type_link</th>\n",
       "      <th>status_type_photo</th>\n",
       "      <th>status_type_status</th>\n",
       "      <th>status_type_video</th>\n",
       "    </tr>\n",
       "  </thead>\n",
       "  <tbody>\n",
       "    <tr>\n",
       "      <th>0</th>\n",
       "      <td>2.366834</td>\n",
       "      <td>23.090909</td>\n",
       "      <td>65.50</td>\n",
       "      <td>2.272727</td>\n",
       "      <td>30.666667</td>\n",
       "      <td>3.0</td>\n",
       "      <td>1.0</td>\n",
       "      <td>1.0</td>\n",
       "      <td>0.0</td>\n",
       "      <td>0</td>\n",
       "      <td>0</td>\n",
       "      <td>0</td>\n",
       "      <td>1</td>\n",
       "    </tr>\n",
       "    <tr>\n",
       "      <th>1</th>\n",
       "      <td>0.462312</td>\n",
       "      <td>-0.181818</td>\n",
       "      <td>0.00</td>\n",
       "      <td>0.563636</td>\n",
       "      <td>0.000000</td>\n",
       "      <td>0.0</td>\n",
       "      <td>0.0</td>\n",
       "      <td>0.0</td>\n",
       "      <td>0.0</td>\n",
       "      <td>0</td>\n",
       "      <td>1</td>\n",
       "      <td>0</td>\n",
       "      <td>0</td>\n",
       "    </tr>\n",
       "    <tr>\n",
       "      <th>2</th>\n",
       "      <td>0.849246</td>\n",
       "      <td>10.545455</td>\n",
       "      <td>14.25</td>\n",
       "      <td>0.890909</td>\n",
       "      <td>7.000000</td>\n",
       "      <td>1.0</td>\n",
       "      <td>1.0</td>\n",
       "      <td>0.0</td>\n",
       "      <td>0.0</td>\n",
       "      <td>0</td>\n",
       "      <td>0</td>\n",
       "      <td>0</td>\n",
       "      <td>1</td>\n",
       "    </tr>\n",
       "    <tr>\n",
       "      <th>3</th>\n",
       "      <td>0.266332</td>\n",
       "      <td>-0.181818</td>\n",
       "      <td>0.00</td>\n",
       "      <td>0.327273</td>\n",
       "      <td>0.000000</td>\n",
       "      <td>0.0</td>\n",
       "      <td>0.0</td>\n",
       "      <td>0.0</td>\n",
       "      <td>0.0</td>\n",
       "      <td>0</td>\n",
       "      <td>1</td>\n",
       "      <td>0</td>\n",
       "      <td>0</td>\n",
       "    </tr>\n",
       "    <tr>\n",
       "      <th>4</th>\n",
       "      <td>0.778894</td>\n",
       "      <td>-0.181818</td>\n",
       "      <td>0.00</td>\n",
       "      <td>0.890909</td>\n",
       "      <td>3.000000</td>\n",
       "      <td>0.0</td>\n",
       "      <td>0.0</td>\n",
       "      <td>0.0</td>\n",
       "      <td>0.0</td>\n",
       "      <td>0</td>\n",
       "      <td>1</td>\n",
       "      <td>0</td>\n",
       "      <td>0</td>\n",
       "    </tr>\n",
       "  </tbody>\n",
       "</table>\n",
       "</div>"
      ],
      "text/plain": [
       "   num_reactions  num_comments  num_shares  num_likes  num_loves  num_wows  \\\n",
       "0       2.366834     23.090909       65.50   2.272727  30.666667       3.0   \n",
       "1       0.462312     -0.181818        0.00   0.563636   0.000000       0.0   \n",
       "2       0.849246     10.545455       14.25   0.890909   7.000000       1.0   \n",
       "3       0.266332     -0.181818        0.00   0.327273   0.000000       0.0   \n",
       "4       0.778894     -0.181818        0.00   0.890909   3.000000       0.0   \n",
       "\n",
       "   num_hahas  num_sads  num_angrys  status_type_link  status_type_photo  \\\n",
       "0        1.0       1.0         0.0                 0                  0   \n",
       "1        0.0       0.0         0.0                 0                  1   \n",
       "2        1.0       0.0         0.0                 0                  0   \n",
       "3        0.0       0.0         0.0                 0                  1   \n",
       "4        0.0       0.0         0.0                 0                  1   \n",
       "\n",
       "   status_type_status  status_type_video  \n",
       "0                   0                  1  \n",
       "1                   0                  0  \n",
       "2                   0                  1  \n",
       "3                   0                  0  \n",
       "4                   0                  0  "
      ]
     },
     "execution_count": 36,
     "metadata": {},
     "output_type": "execute_result"
    }
   ],
   "source": [
    "rs = ['num_reactions', 'num_comments', 'num_shares', 'num_likes', 'num_loves',\n",
    "       'num_wows', 'num_hahas', 'num_sads', 'num_angrys']\n",
    "Robust_scaler = preprocessing.RobustScaler().fit(df.b[rs])\n",
    "df.b[rs] = Robust_scaler.transform(df.b[rs])\n",
    "\n",
    "df.b.head()"
   ]
  },
  {
   "cell_type": "code",
   "execution_count": 37,
   "id": "069955d1",
   "metadata": {},
   "outputs": [
    {
     "data": {
      "image/png": "[encoded data removed]",
      "text/plain": [
       "<Figure size 1296x1296 with 1 Axes>"
      ]
     },
     "metadata": {
      "needs_background": "light"
     },
     "output_type": "display_data"
    }
   ],
   "source": [
    "plt.figure(figsize=(18,18))\n",
    "Barplot = sns.barplot(data=df.b, orient='h', palette= 'BuPu_r')\n",
    "plt.title('Preprocesado')\n",
    "plt.show()"
   ]
  },
  {
   "cell_type": "code",
   "execution_count": 38,
   "id": "15485ce6",
   "metadata": {},
   "outputs": [
    {
     "data": {
      "text/plain": [
       "<Figure size 864x864 with 0 Axes>"
      ]
     },
     "metadata": {},
     "output_type": "display_data"
    },
    {
     "data": {
      "image/png": "[encoded data removed]",
      "text/plain": [
       "<Figure size 432x288 with 16 Axes>"
      ]
     },
     "metadata": {
      "needs_background": "light"
     },
     "output_type": "display_data"
    }
   ],
   "source": [
    "plt.figure(figsize = (12,12))\n",
    "df.b.hist()\n",
    "plt.tight_layout()"
   ]
  },
  {
   "cell_type": "markdown",
   "id": "b78d5a82",
   "metadata": {},
   "source": [
    "## Análisis de componentes principales (PCA)\n",
    "\n",
    "Mediante este método vamos a simplificar la complejidad de nuestro dataframe. Mediante este método reduciremos la dimensionalidad de los datos obteniendo una combinación lineal de variables que capture la mayor cantidad de varianza posible en los datos."
   ]
  },
  {
   "cell_type": "code",
   "execution_count": 39,
   "id": "23c22832",
   "metadata": {},
   "outputs": [
    {
     "data": {
      "text/plain": [
       "Text(0, 0.5, 'Varianza acumulada explicada')"
      ]
     },
     "execution_count": 39,
     "metadata": {},
     "output_type": "execute_result"
    },
    {
     "data": {
      "image/png": "[encoded data removed]",
      "text/plain": [
       "<Figure size 432x288 with 1 Axes>"
      ]
     },
     "metadata": {
      "needs_background": "light"
     },
     "output_type": "display_data"
    }
   ],
   "source": [
    "pca = PCA().fit(df.b)\n",
    "plt.plot(np.cumsum(pca.explained_variance_ratio_), marker = \"*\")\n",
    "plt.axhline(0.95, linestyle = '--')\n",
    "plt.xlim([-1,10])\n",
    "plt.xlabel('Numero componentes')\n",
    "plt.ylabel('Varianza acumulada explicada')"
   ]
  },
  {
   "cell_type": "markdown",
   "id": "afcb86c9",
   "metadata": {},
   "source": [
    "Observamos que dicha combinación lineal la encontramos entre 1 y 2. Vamos a analizar por tanto a qué número de dimensiones debemos reducir nuestros datos, conservando el 95% de la varianza de los mismos. "
   ]
  },
  {
   "cell_type": "code",
   "execution_count": 40,
   "id": "5cf65205",
   "metadata": {},
   "outputs": [
    {
     "name": "stdout",
     "output_type": "stream",
     "text": [
      "2\n"
     ]
    }
   ],
   "source": [
    "pca = PCA(.95).fit(df)\n",
    "print(pca.n_components_)"
   ]
  },
  {
   "cell_type": "markdown",
   "id": "29db6cf7",
   "metadata": {},
   "source": [
    "Para conservar el 95% de la varianza hemos de utilizar 2 componentes para realizar la agrupación de todas nuestras variables, siendo nuestrso número óptimo para lograrlo."
   ]
  },
  {
   "cell_type": "code",
   "execution_count": 41,
   "id": "2cb82592",
   "metadata": {},
   "outputs": [
    {
     "data": {
      "text/html": [
       "<div>\n",
       "<style scoped>\n",
       "    .dataframe tbody tr th:only-of-type {\n",
       "        vertical-align: middle;\n",
       "    }\n",
       "\n",
       "    .dataframe tbody tr th {\n",
       "        vertical-align: top;\n",
       "    }\n",
       "\n",
       "    .dataframe thead th {\n",
       "        text-align: right;\n",
       "    }\n",
       "</style>\n",
       "<table border=\"1\" class=\"dataframe\">\n",
       "  <thead>\n",
       "    <tr style=\"text-align: right;\">\n",
       "      <th></th>\n",
       "      <th>Componente 1</th>\n",
       "      <th>Componente 2</th>\n",
       "    </tr>\n",
       "  </thead>\n",
       "  <tbody>\n",
       "    <tr>\n",
       "      <th>0</th>\n",
       "      <td>-249.415312</td>\n",
       "      <td>-262.515115</td>\n",
       "    </tr>\n",
       "    <tr>\n",
       "      <th>1</th>\n",
       "      <td>-279.731570</td>\n",
       "      <td>-261.943082</td>\n",
       "    </tr>\n",
       "    <tr>\n",
       "      <th>2</th>\n",
       "      <td>-267.589818</td>\n",
       "      <td>-263.129327</td>\n",
       "    </tr>\n",
       "    <tr>\n",
       "      <th>3</th>\n",
       "      <td>-279.785080</td>\n",
       "      <td>-262.243553</td>\n",
       "    </tr>\n",
       "    <tr>\n",
       "      <th>4</th>\n",
       "      <td>-279.578128</td>\n",
       "      <td>-261.469812</td>\n",
       "    </tr>\n",
       "  </tbody>\n",
       "</table>\n",
       "</div>"
      ],
      "text/plain": [
       "   Componente 1  Componente 2\n",
       "0   -249.415312   -262.515115\n",
       "1   -279.731570   -261.943082\n",
       "2   -267.589818   -263.129327\n",
       "3   -279.785080   -262.243553\n",
       "4   -279.578128   -261.469812"
      ]
     },
     "execution_count": 41,
     "metadata": {},
     "output_type": "execute_result"
    }
   ],
   "source": [
    "pca = PCA(n_components=2)\n",
    "pca.fit(df)\n",
    "df.pca = pd.DataFrame(pca.transform(df.b), columns=['Componente 1', 'Componente 2'], index=df.index)\n",
    "df.pca.head()"
   ]
  },
  {
   "cell_type": "markdown",
   "id": "7b891658",
   "metadata": {},
   "source": [
    "# Exercici 1: K-means\n",
    "\n",
    "Descarrega el dataset adjunt, de registres de publicacions a Facebook sobre Tailàndia, i classifica els diferents registres utilitzant l'algorisme de K-means."
   ]
  },
  {
   "cell_type": "markdown",
   "id": "42cf0939",
   "metadata": {},
   "source": [
    "* **Elbow Method:** Para determinar el número de cluster óptimo vamos a utilizar el método de \"elbow\" que nos graficará la suma de las distancias al cuadrado (SS) de cada punto a su centroide correspondiente versus el número de clusters, hasta que aparezca la disminución."
   ]
  },
  {
   "cell_type": "code",
   "execution_count": 42,
   "id": "8e6f1dec",
   "metadata": {},
   "outputs": [
    {
     "name": "stdout",
     "output_type": "stream",
     "text": [
      "Requirement already satisfied: kneed in /opt/anaconda3/lib/python3.9/site-packages (0.8.2)\n",
      "Requirement already satisfied: numpy>=1.14.2 in /opt/anaconda3/lib/python3.9/site-packages (from kneed) (1.21.5)\n",
      "Requirement already satisfied: scipy>=1.0.0 in /opt/anaconda3/lib/python3.9/site-packages (from kneed) (1.7.3)\n"
     ]
    }
   ],
   "source": [
    "!pip install --upgrade kneed\n",
    "ks = range(1, 10)\n",
    "SSE = []\n",
    "\n",
    "for k in range(1, 10):\n",
    "    model = KMeans(n_clusters=k)\n",
    "    model.fit(df.pca)\n",
    "    SSE.append(model.inertia_)"
   ]
  },
  {
   "cell_type": "code",
   "execution_count": 43,
   "id": "d228be38",
   "metadata": {},
   "outputs": [
    {
     "data": {
      "image/png": "[encoded data removed]",
      "text/plain": [
       "<Figure size 432x288 with 1 Axes>"
      ]
     },
     "metadata": {
      "needs_background": "light"
     },
     "output_type": "display_data"
    }
   ],
   "source": [
    "plt.plot(ks, SSE, '-o', color='blue')\n",
    "plt.xlabel('Número de custers, k')\n",
    "plt.ylabel('SSE')\n",
    "plt.xticks(ks)\n",
    "plt.show()"
   ]
  },
  {
   "cell_type": "code",
   "execution_count": 44,
   "id": "d5729bd1",
   "metadata": {},
   "outputs": [
    {
     "data": {
      "text/plain": [
       "3"
      ]
     },
     "execution_count": 44,
     "metadata": {},
     "output_type": "execute_result"
    }
   ],
   "source": [
    "kl = KneeLocator(ks, SSE, curve=\"convex\", direction=\"decreasing\")\n",
    "kl.elbow"
   ]
  },
  {
   "cell_type": "markdown",
   "id": "7b99f86e",
   "metadata": {},
   "source": [
    "El número de clústers óptimo va a ser 3."
   ]
  },
  {
   "cell_type": "code",
   "execution_count": 45,
   "id": "2d065658",
   "metadata": {},
   "outputs": [
    {
     "data": {
      "text/plain": [
       "array([0, 0, 0, ..., 0, 0, 0], dtype=int32)"
      ]
     },
     "execution_count": 45,
     "metadata": {},
     "output_type": "execute_result"
    }
   ],
   "source": [
    "#Instancio\n",
    "km = KMeans(n_clusters=3, random_state=42)\n",
    "km.fit(df.pca)\n",
    "\n",
    "#predigo\n",
    "predicts = km.predict(df.pca)\n",
    "predicts"
   ]
  },
  {
   "cell_type": "code",
   "execution_count": 46,
   "id": "398eb93a",
   "metadata": {},
   "outputs": [
    {
     "data": {
      "text/html": [
       "<div>\n",
       "<style scoped>\n",
       "    .dataframe tbody tr th:only-of-type {\n",
       "        vertical-align: middle;\n",
       "    }\n",
       "\n",
       "    .dataframe tbody tr th {\n",
       "        vertical-align: top;\n",
       "    }\n",
       "\n",
       "    .dataframe thead th {\n",
       "        text-align: right;\n",
       "    }\n",
       "</style>\n",
       "<table border=\"1\" class=\"dataframe\">\n",
       "  <thead>\n",
       "    <tr style=\"text-align: right;\">\n",
       "      <th></th>\n",
       "      <th>num_reactions</th>\n",
       "      <th>num_comments</th>\n",
       "      <th>num_shares</th>\n",
       "      <th>num_likes</th>\n",
       "      <th>num_loves</th>\n",
       "      <th>num_wows</th>\n",
       "      <th>num_hahas</th>\n",
       "      <th>num_sads</th>\n",
       "      <th>num_angrys</th>\n",
       "      <th>status_type_link</th>\n",
       "      <th>status_type_photo</th>\n",
       "      <th>status_type_status</th>\n",
       "      <th>status_type_video</th>\n",
       "      <th>Cluster K-means</th>\n",
       "    </tr>\n",
       "  </thead>\n",
       "  <tbody>\n",
       "    <tr>\n",
       "      <th>0</th>\n",
       "      <td>529</td>\n",
       "      <td>512</td>\n",
       "      <td>262</td>\n",
       "      <td>432</td>\n",
       "      <td>92</td>\n",
       "      <td>3</td>\n",
       "      <td>1</td>\n",
       "      <td>1</td>\n",
       "      <td>0</td>\n",
       "      <td>0</td>\n",
       "      <td>0</td>\n",
       "      <td>0</td>\n",
       "      <td>1</td>\n",
       "      <td>0</td>\n",
       "    </tr>\n",
       "    <tr>\n",
       "      <th>1</th>\n",
       "      <td>150</td>\n",
       "      <td>0</td>\n",
       "      <td>0</td>\n",
       "      <td>150</td>\n",
       "      <td>0</td>\n",
       "      <td>0</td>\n",
       "      <td>0</td>\n",
       "      <td>0</td>\n",
       "      <td>0</td>\n",
       "      <td>0</td>\n",
       "      <td>1</td>\n",
       "      <td>0</td>\n",
       "      <td>0</td>\n",
       "      <td>0</td>\n",
       "    </tr>\n",
       "    <tr>\n",
       "      <th>2</th>\n",
       "      <td>227</td>\n",
       "      <td>236</td>\n",
       "      <td>57</td>\n",
       "      <td>204</td>\n",
       "      <td>21</td>\n",
       "      <td>1</td>\n",
       "      <td>1</td>\n",
       "      <td>0</td>\n",
       "      <td>0</td>\n",
       "      <td>0</td>\n",
       "      <td>0</td>\n",
       "      <td>0</td>\n",
       "      <td>1</td>\n",
       "      <td>0</td>\n",
       "    </tr>\n",
       "    <tr>\n",
       "      <th>3</th>\n",
       "      <td>111</td>\n",
       "      <td>0</td>\n",
       "      <td>0</td>\n",
       "      <td>111</td>\n",
       "      <td>0</td>\n",
       "      <td>0</td>\n",
       "      <td>0</td>\n",
       "      <td>0</td>\n",
       "      <td>0</td>\n",
       "      <td>0</td>\n",
       "      <td>1</td>\n",
       "      <td>0</td>\n",
       "      <td>0</td>\n",
       "      <td>0</td>\n",
       "    </tr>\n",
       "    <tr>\n",
       "      <th>4</th>\n",
       "      <td>213</td>\n",
       "      <td>0</td>\n",
       "      <td>0</td>\n",
       "      <td>204</td>\n",
       "      <td>9</td>\n",
       "      <td>0</td>\n",
       "      <td>0</td>\n",
       "      <td>0</td>\n",
       "      <td>0</td>\n",
       "      <td>0</td>\n",
       "      <td>1</td>\n",
       "      <td>0</td>\n",
       "      <td>0</td>\n",
       "      <td>0</td>\n",
       "    </tr>\n",
       "  </tbody>\n",
       "</table>\n",
       "</div>"
      ],
      "text/plain": [
       "   num_reactions  num_comments  num_shares  num_likes  num_loves  num_wows  \\\n",
       "0            529           512         262        432         92         3   \n",
       "1            150             0           0        150          0         0   \n",
       "2            227           236          57        204         21         1   \n",
       "3            111             0           0        111          0         0   \n",
       "4            213             0           0        204          9         0   \n",
       "\n",
       "   num_hahas  num_sads  num_angrys  status_type_link  status_type_photo  \\\n",
       "0          1         1           0                 0                  0   \n",
       "1          0         0           0                 0                  1   \n",
       "2          1         0           0                 0                  0   \n",
       "3          0         0           0                 0                  1   \n",
       "4          0         0           0                 0                  1   \n",
       "\n",
       "   status_type_status  status_type_video  Cluster K-means  \n",
       "0                   0                  1                0  \n",
       "1                   0                  0                0  \n",
       "2                   0                  1                0  \n",
       "3                   0                  0                0  \n",
       "4                   0                  0                0  "
      ]
     },
     "execution_count": 46,
     "metadata": {},
     "output_type": "execute_result"
    }
   ],
   "source": [
    "df.cluster = df.copy()\n",
    "\n",
    "df.cluster['Cluster K-means'] = predicts\n",
    "df.cluster.head()"
   ]
  },
  {
   "cell_type": "code",
   "execution_count": 48,
   "id": "616f9aea",
   "metadata": {},
   "outputs": [
    {
     "data": {
      "text/plain": [
       "0    6571\n",
       "1     368\n",
       "2      58\n",
       "Name: Cluster K-means, dtype: int64"
      ]
     },
     "execution_count": 48,
     "metadata": {},
     "output_type": "execute_result"
    }
   ],
   "source": [
    "df.cluster['Cluster K-means'].value_counts()"
   ]
  },
  {
   "cell_type": "code",
   "execution_count": 49,
   "id": "c4650955",
   "metadata": {},
   "outputs": [
    {
     "data": {
      "image/png": "[encoded data removed]",
      "text/plain": [
       "<Figure size 432x288 with 1 Axes>"
      ]
     },
     "metadata": {
      "needs_background": "light"
     },
     "output_type": "display_data"
    },
    {
     "data": {
      "image/png": "[encoded data removed]",
      "text/plain": [
       "<Figure size 576x360 with 1 Axes>"
      ]
     },
     "metadata": {},
     "output_type": "display_data"
    },
    {
     "data": {
      "image/png": "[encoded data removed]",
      "text/plain": [
       "<Figure size 576x360 with 1 Axes>"
      ]
     },
     "metadata": {},
     "output_type": "display_data"
    },
    {
     "data": {
      "image/png": "[encoded data removed]",
      "text/plain": [
       "<Figure size 576x360 with 1 Axes>"
      ]
     },
     "metadata": {},
     "output_type": "display_data"
    },
    {
     "data": {
      "image/png": "[encoded data removed]",
      "text/plain": [
       "<Figure size 576x360 with 1 Axes>"
      ]
     },
     "metadata": {},
     "output_type": "display_data"
    },
    {
     "data": {
      "image/png": "[encoded data removed]",
      "text/plain": [
       "<Figure size 576x360 with 1 Axes>"
      ]
     },
     "metadata": {},
     "output_type": "display_data"
    },
    {
     "data": {
      "image/png": "[encoded data removed]",
      "text/plain": [
       "<Figure size 576x360 with 1 Axes>"
      ]
     },
     "metadata": {},
     "output_type": "display_data"
    },
    {
     "data": {
      "image/png": "[encoded data removed]",
      "text/plain": [
       "<Figure size 576x360 with 1 Axes>"
      ]
     },
     "metadata": {},
     "output_type": "display_data"
    },
    {
     "data": {
      "image/png": "[encoded data removed]",
      "text/plain": [
       "<Figure size 576x360 with 1 Axes>"
      ]
     },
     "metadata": {},
     "output_type": "display_data"
    },
    {
     "data": {
      "image/png": "[encoded data removed]",
      "text/plain": [
       "<Figure size 576x360 with 1 Axes>"
      ]
     },
     "metadata": {},
     "output_type": "display_data"
    },
    {
     "data": {
      "image/png": "[encoded data removed]",
      "text/plain": [
       "<Figure size 576x360 with 1 Axes>"
      ]
     },
     "metadata": {},
     "output_type": "display_data"
    },
    {
     "data": {
      "image/png": "[encoded data removed]",
      "text/plain": [
       "<Figure size 576x360 with 1 Axes>"
      ]
     },
     "metadata": {},
     "output_type": "display_data"
    },
    {
     "data": {
      "image/png": "[encoded data removed]",
      "text/plain": [
       "<Figure size 576x360 with 1 Axes>"
      ]
     },
     "metadata": {},
     "output_type": "display_data"
    }
   ],
   "source": [
    "columns = df.cluster.columns[:-1]\n",
    "\n",
    "for i in columns:\n",
    "    plt.figure()\n",
    "    plt.tight_layout()\n",
    "    sns.set(rc={\"figure.figsize\":(8, 5)})\n",
    "    plt.gca().set(xlabel= i,ylabel='Frequency')\n",
    "    sns.boxplot(x='Cluster K-means', y=i, data=df.cluster)\n",
    "    "
   ]
  },
  {
   "cell_type": "markdown",
   "id": "e0e8ad86",
   "metadata": {},
   "source": [
    "El clúster más destacable es el que se forma en cuanto al número de reacciones, seguido del número de comentarios. "
   ]
  },
  {
   "cell_type": "markdown",
   "id": "6e1f320f",
   "metadata": {},
   "source": [
    "# Exercici 2: Agrupamiento jerárquico\n",
    "\n",
    "Classifica els diferents registres utilitzant l'algorisme de clustering jeràrquic."
   ]
  },
  {
   "cell_type": "markdown",
   "id": "ed4d92dd",
   "metadata": {},
   "source": [
    "El agrupamiento jerárquico es un método de clustering utilizado para agrupar objetos en categorías basadas en su similitud. Puede ser aglomerativo (ascendente) o divisivo (descendente)."
   ]
  },
  {
   "cell_type": "code",
   "execution_count": 50,
   "id": "cfcfb732",
   "metadata": {},
   "outputs": [
    {
     "data": {
      "image/png": "[encoded data removed]",
      "text/plain": [
       "<Figure size 720x504 with 1 Axes>"
      ]
     },
     "metadata": {},
     "output_type": "display_data"
    }
   ],
   "source": [
    "plt.figure(figsize=(10, 7))  \n",
    "plt.title(\"Dendrograma\")  \n",
    "dendrograma = shc.dendrogram(shc.linkage(df.pca, method='ward'))"
   ]
  },
  {
   "cell_type": "code",
   "execution_count": 51,
   "id": "db2e8f55",
   "metadata": {},
   "outputs": [
    {
     "data": {
      "text/plain": [
       "<matplotlib.lines.Line2D at 0x7ff23ad0e0a0>"
      ]
     },
     "execution_count": 51,
     "metadata": {},
     "output_type": "execute_result"
    },
    {
     "data": {
      "image/png": "[encoded data removed]",
      "text/plain": [
       "<Figure size 720x504 with 1 Axes>"
      ]
     },
     "metadata": {},
     "output_type": "display_data"
    }
   ],
   "source": [
    "plt.figure(figsize=(10, 7))  \n",
    "plt.title(\"Dendrograma\")  \n",
    "dendrograma = shc.dendrogram(shc.linkage(df.pca, method='ward'))\n",
    "plt.axhline(y=2500, color='blue', linestyle='--')"
   ]
  },
  {
   "cell_type": "markdown",
   "id": "4471d5f0",
   "metadata": {},
   "source": [
    "El dendrograma resultante nos muestra dos clusters. "
   ]
  },
  {
   "cell_type": "code",
   "execution_count": 52,
   "id": "f1763082",
   "metadata": {},
   "outputs": [
    {
     "data": {
      "text/plain": [
       "array([0, 0, 0, ..., 0, 0, 0])"
      ]
     },
     "execution_count": 52,
     "metadata": {},
     "output_type": "execute_result"
    }
   ],
   "source": [
    "aglo = AgglomerativeClustering(n_clusters=2, affinity='euclidean', linkage='ward')  \n",
    "aglo.fit(df.pca)\n",
    "\n",
    "predicts_aglo = aglo.labels_\n",
    "\n",
    "predicts_aglo"
   ]
  },
  {
   "cell_type": "code",
   "execution_count": 55,
   "id": "a96de5b8",
   "metadata": {},
   "outputs": [
    {
     "data": {
      "text/html": [
       "<div>\n",
       "<style scoped>\n",
       "    .dataframe tbody tr th:only-of-type {\n",
       "        vertical-align: middle;\n",
       "    }\n",
       "\n",
       "    .dataframe tbody tr th {\n",
       "        vertical-align: top;\n",
       "    }\n",
       "\n",
       "    .dataframe thead th {\n",
       "        text-align: right;\n",
       "    }\n",
       "</style>\n",
       "<table border=\"1\" class=\"dataframe\">\n",
       "  <thead>\n",
       "    <tr style=\"text-align: right;\">\n",
       "      <th></th>\n",
       "      <th>num_reactions</th>\n",
       "      <th>num_comments</th>\n",
       "      <th>num_shares</th>\n",
       "      <th>num_likes</th>\n",
       "      <th>num_loves</th>\n",
       "      <th>num_wows</th>\n",
       "      <th>num_hahas</th>\n",
       "      <th>num_sads</th>\n",
       "      <th>num_angrys</th>\n",
       "      <th>status_type_link</th>\n",
       "      <th>status_type_photo</th>\n",
       "      <th>status_type_status</th>\n",
       "      <th>status_type_video</th>\n",
       "      <th>Cluster K-means</th>\n",
       "      <th>Cluster Agglomerative</th>\n",
       "    </tr>\n",
       "  </thead>\n",
       "  <tbody>\n",
       "    <tr>\n",
       "      <th>0</th>\n",
       "      <td>529</td>\n",
       "      <td>512</td>\n",
       "      <td>262</td>\n",
       "      <td>432</td>\n",
       "      <td>92</td>\n",
       "      <td>3</td>\n",
       "      <td>1</td>\n",
       "      <td>1</td>\n",
       "      <td>0</td>\n",
       "      <td>0</td>\n",
       "      <td>0</td>\n",
       "      <td>0</td>\n",
       "      <td>1</td>\n",
       "      <td>0</td>\n",
       "      <td>0</td>\n",
       "    </tr>\n",
       "    <tr>\n",
       "      <th>1</th>\n",
       "      <td>150</td>\n",
       "      <td>0</td>\n",
       "      <td>0</td>\n",
       "      <td>150</td>\n",
       "      <td>0</td>\n",
       "      <td>0</td>\n",
       "      <td>0</td>\n",
       "      <td>0</td>\n",
       "      <td>0</td>\n",
       "      <td>0</td>\n",
       "      <td>1</td>\n",
       "      <td>0</td>\n",
       "      <td>0</td>\n",
       "      <td>0</td>\n",
       "      <td>0</td>\n",
       "    </tr>\n",
       "    <tr>\n",
       "      <th>2</th>\n",
       "      <td>227</td>\n",
       "      <td>236</td>\n",
       "      <td>57</td>\n",
       "      <td>204</td>\n",
       "      <td>21</td>\n",
       "      <td>1</td>\n",
       "      <td>1</td>\n",
       "      <td>0</td>\n",
       "      <td>0</td>\n",
       "      <td>0</td>\n",
       "      <td>0</td>\n",
       "      <td>0</td>\n",
       "      <td>1</td>\n",
       "      <td>0</td>\n",
       "      <td>0</td>\n",
       "    </tr>\n",
       "    <tr>\n",
       "      <th>3</th>\n",
       "      <td>111</td>\n",
       "      <td>0</td>\n",
       "      <td>0</td>\n",
       "      <td>111</td>\n",
       "      <td>0</td>\n",
       "      <td>0</td>\n",
       "      <td>0</td>\n",
       "      <td>0</td>\n",
       "      <td>0</td>\n",
       "      <td>0</td>\n",
       "      <td>1</td>\n",
       "      <td>0</td>\n",
       "      <td>0</td>\n",
       "      <td>0</td>\n",
       "      <td>0</td>\n",
       "    </tr>\n",
       "    <tr>\n",
       "      <th>4</th>\n",
       "      <td>213</td>\n",
       "      <td>0</td>\n",
       "      <td>0</td>\n",
       "      <td>204</td>\n",
       "      <td>9</td>\n",
       "      <td>0</td>\n",
       "      <td>0</td>\n",
       "      <td>0</td>\n",
       "      <td>0</td>\n",
       "      <td>0</td>\n",
       "      <td>1</td>\n",
       "      <td>0</td>\n",
       "      <td>0</td>\n",
       "      <td>0</td>\n",
       "      <td>0</td>\n",
       "    </tr>\n",
       "  </tbody>\n",
       "</table>\n",
       "</div>"
      ],
      "text/plain": [
       "   num_reactions  num_comments  num_shares  num_likes  num_loves  num_wows  \\\n",
       "0            529           512         262        432         92         3   \n",
       "1            150             0           0        150          0         0   \n",
       "2            227           236          57        204         21         1   \n",
       "3            111             0           0        111          0         0   \n",
       "4            213             0           0        204          9         0   \n",
       "\n",
       "   num_hahas  num_sads  num_angrys  status_type_link  status_type_photo  \\\n",
       "0          1         1           0                 0                  0   \n",
       "1          0         0           0                 0                  1   \n",
       "2          1         0           0                 0                  0   \n",
       "3          0         0           0                 0                  1   \n",
       "4          0         0           0                 0                  1   \n",
       "\n",
       "   status_type_status  status_type_video  Cluster K-means  \\\n",
       "0                   0                  1                0   \n",
       "1                   0                  0                0   \n",
       "2                   0                  1                0   \n",
       "3                   0                  0                0   \n",
       "4                   0                  0                0   \n",
       "\n",
       "   Cluster Agglomerative  \n",
       "0                      0  \n",
       "1                      0  \n",
       "2                      0  \n",
       "3                      0  \n",
       "4                      0  "
      ]
     },
     "execution_count": 55,
     "metadata": {},
     "output_type": "execute_result"
    }
   ],
   "source": [
    "df.cluster['Cluster Agglomerative'] = predicts_aglo\n",
    "df.cluster.head()"
   ]
  },
  {
   "cell_type": "code",
   "execution_count": 56,
   "id": "deb7f344",
   "metadata": {},
   "outputs": [
    {
     "data": {
      "image/png": "[encoded data removed]",
      "text/plain": [
       "<Figure size 576x360 with 1 Axes>"
      ]
     },
     "metadata": {},
     "output_type": "display_data"
    },
    {
     "data": {
      "image/png": "[encoded data removed]",
      "text/plain": [
       "<Figure size 576x360 with 1 Axes>"
      ]
     },
     "metadata": {},
     "output_type": "display_data"
    },
    {
     "data": {
      "image/png": "[encoded data removed]",
      "text/plain": [
       "<Figure size 576x360 with 1 Axes>"
      ]
     },
     "metadata": {},
     "output_type": "display_data"
    },
    {
     "data": {
      "image/png": "[encoded data removed]",
      "text/plain": [
       "<Figure size 576x360 with 1 Axes>"
      ]
     },
     "metadata": {},
     "output_type": "display_data"
    },
    {
     "data": {
      "image/png": "[encoded data removed]",
      "text/plain": [
       "<Figure size 576x360 with 1 Axes>"
      ]
     },
     "metadata": {},
     "output_type": "display_data"
    },
    {
     "data": {
      "image/png": "[encoded data removed]",
      "text/plain": [
       "<Figure size 576x360 with 1 Axes>"
      ]
     },
     "metadata": {},
     "output_type": "display_data"
    },
    {
     "data": {
      "image/png": "[encoded data removed]",
      "text/plain": [
       "<Figure size 576x360 with 1 Axes>"
      ]
     },
     "metadata": {},
     "output_type": "display_data"
    },
    {
     "data": {
      "image/png": "[encoded data removed]",
      "text/plain": [
       "<Figure size 576x360 with 1 Axes>"
      ]
     },
     "metadata": {},
     "output_type": "display_data"
    },
    {
     "data": {
      "image/png": "[encoded data removed]",
      "text/plain": [
       "<Figure size 576x360 with 1 Axes>"
      ]
     },
     "metadata": {},
     "output_type": "display_data"
    },
    {
     "data": {
      "image/png": "[encoded data removed]",
      "text/plain": [
       "<Figure size 576x360 with 1 Axes>"
      ]
     },
     "metadata": {},
     "output_type": "display_data"
    },
    {
     "data": {
      "image/png": "[encoded data removed]",
      "text/plain": [
       "<Figure size 576x360 with 1 Axes>"
      ]
     },
     "metadata": {},
     "output_type": "display_data"
    },
    {
     "data": {
      "image/png": "[encoded data removed]",
      "text/plain": [
       "<Figure size 576x360 with 1 Axes>"
      ]
     },
     "metadata": {},
     "output_type": "display_data"
    },
    {
     "data": {
      "image/png": "[encoded data removed]",
      "text/plain": [
       "<Figure size 576x360 with 1 Axes>"
      ]
     },
     "metadata": {},
     "output_type": "display_data"
    }
   ],
   "source": [
    "columns = df.cluster.columns[:-2]\n",
    "   \n",
    "for i in columns:\n",
    "    plt.figure()\n",
    "    plt.tight_layout()\n",
    "    sns.set(rc={\"figure.figsize\":(8, 5)})\n",
    "    plt.gca().set(xlabel= i,ylabel='Frequency')\n",
    "    sns.boxplot(x='Cluster Agglomerative', y=i, data=df.cluster)"
   ]
  },
  {
   "cell_type": "markdown",
   "id": "021fe4b4",
   "metadata": {},
   "source": [
    "En este caso también destacan las variables número de reacciones y número de comentarios como fuentes de las agrupaciones que realiza el algoritmo de agrupamiento jerarquico en su forma aglomerativa. "
   ]
  },
  {
   "cell_type": "markdown",
   "id": "c7a2464e",
   "metadata": {},
   "source": [
    "# Exercici 3:\n",
    "\n",
    "Calcula el rendiment del clustering mitjançant un paràmetre com pot ser silhouette.\n",
    "\n",
    "[Link](https://es.wikipedia.org/wiki/Silhouette_(clustering)#:~:text=El%20valor%20de%20la%20silueta,emparejado%20con%20los%20c%C3%BAmulos%20vecinos.)"
   ]
  },
  {
   "cell_type": "code",
   "execution_count": 66,
   "id": "265862ad",
   "metadata": {},
   "outputs": [],
   "source": [
    "score_km = silhouette_score(df, predicts, metric='euclidean')\n",
    "\n",
    "score_aglo = silhouette_score(df, predicts_aglo, metric='euclidean')"
   ]
  },
  {
   "cell_type": "code",
   "execution_count": 64,
   "id": "864c4335",
   "metadata": {},
   "outputs": [
    {
     "data": {
      "text/plain": [
       "0.7574497790645135"
      ]
     },
     "execution_count": 64,
     "metadata": {},
     "output_type": "execute_result"
    }
   ],
   "source": [
    "score_km"
   ]
  },
  {
   "cell_type": "code",
   "execution_count": 65,
   "id": "443cecc9",
   "metadata": {},
   "outputs": [
    {
     "data": {
      "text/plain": [
       "0.8850375434161767"
      ]
     },
     "execution_count": 65,
     "metadata": {},
     "output_type": "execute_result"
    }
   ],
   "source": [
    "score_aglo"
   ]
  },
  {
   "cell_type": "markdown",
   "id": "c5931bed",
   "metadata": {},
   "source": [
    "En ambos casos nuesto silhouette score se aproxima a uno positivo, lo que nos indicaría que los grupos están bien separados entre si y diferenciados. Siendo el valor más cerca a 1 el que nos arroja el modelo de agrupamiento jerárquico. "
   ]
  }
 ],
 "metadata": {
  "kernelspec": {
   "display_name": "Python 3 (ipykernel)",
   "language": "python",
   "name": "python3"
  },
  "language_info": {
   "codemirror_mode": {
    "name": "ipython",
    "version": 3
   },
   "file_extension": ".py",
   "mimetype": "text/x-python",
   "name": "python",
   "nbconvert_exporter": "python",
   "pygments_lexer": "ipython3",
   "version": "3.9.12"
  }
 },
 "nbformat": 4,
 "nbformat_minor": 5
}
